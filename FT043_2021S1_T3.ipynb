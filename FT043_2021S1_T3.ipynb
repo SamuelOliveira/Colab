{
  "nbformat": 4,
  "nbformat_minor": 0,
  "metadata": {
    "colab": {
      "name": "FT043_2021S1_T3.ipynb",
      "provenance": [],
      "collapsed_sections": [
        "N5IhKzbyZ4sU",
        "CKH9j1UhguCu",
        "o4o8c6ImeO4S",
        "RrvXK3SMeW_W"
      ],
      "authorship_tag": "ABX9TyMaSxZ1xHhkLcfv7qMWX3nQ",
      "include_colab_link": true
    },
    "kernelspec": {
      "name": "python3",
      "display_name": "Python 3"
    },
    "language_info": {
      "name": "python"
    }
  },
  "cells": [
    {
      "cell_type": "markdown",
      "metadata": {
        "id": "view-in-github",
        "colab_type": "text"
      },
      "source": [
        "<a href=\"https://colab.research.google.com/github/SamuelOliveira/Colab/blob/main/FT043_2021S1_T3.ipynb\" target=\"_parent\"><img src=\"https://colab.research.google.com/assets/colab-badge.svg\" alt=\"Open In Colab\"/></a>"
      ]
    },
    {
      "cell_type": "markdown",
      "metadata": {
        "id": "OR8TRlyJXM5x"
      },
      "source": [
        "```\n",
        "Author: Samuel Oliveira da Silva\n",
        "RA: 231294\n",
        "Email: s231294@g.unicamp.br\n",
        "FT084_2021S1_T3\n",
        "```"
      ]
    },
    {
      "cell_type": "markdown",
      "metadata": {
        "id": "N5IhKzbyZ4sU"
      },
      "source": [
        "## **Enunciado**\n",
        "\n",
        "**2**. Os dados fornecidos em anexo correspondem a um problema de classificação supervisionada no qual há um único atributo de entrada. Assumindo um modelo de pdf gaussiana para cada uma das classes:\n",
        "\n",
        "*   **(a)** Trace os histogramas dos dados, utilizando cores diferentes para cada uma das classes.\n",
        "\n",
        "*   **(b)** Obtenha o limiar de classificação considerando uma abordagem de classificação baseada na máxima verossimilhança.\n",
        "\n",
        "*   **(c)** Calcule a probabilidade de erro (teórica) de classificação para cada uma das classes, bem como a probabilidade de erro total (considerando as duas classes) da abordagem de máxima verossimilhança.\n",
        "\n",
        "*   **(d)** Calcule a taxa de erro (empírica) de classificação para cada uma das classes, bem como a taxa de erro total (considerando as duas classes) da abordagem de máxima verossimilhança. Compare com o resultado obtido no item **(c)**.\n",
        "\n",
        "*   **(e)** Proponha um novo classificador que leve em conta o desbalanço entre as duas classes. Obtenha o limiar de classificação neste caso.\n",
        "\n",
        "*   **(f)** Repita os itens **(d)**, porém agora considerando o limiar de classificação definido pela proposta do item **(e)**.\n",
        "\n",
        "*   **(g)** Comente eventuais diferenças entre os desempenhos dos classificadores propostos nos itens **(b)** e **(e)**.\n",
        "\n",
        "\n",
        "Observação: Para leitura dos dados em Python, é possível utilizar o código. A primeira coluna do array ‘Dados’ corresponde ao valor do atributo e a segunda coluna identifica a classe da amostra (0 ou 1) \n",
        " \n",
        "import numpy as np Dados = np.loadtxt('dados_atividade.csv', delimiter=',') "
      ]
    },
    {
      "cell_type": "markdown",
      "metadata": {
        "id": "CKH9j1UhguCu"
      },
      "source": [
        "## **Importando bibliotecas**"
      ]
    },
    {
      "cell_type": "code",
      "metadata": {
        "id": "lbw0pmFmXWdl"
      },
      "source": [
        "import numpy as np\n",
        "import pandas as pd\n",
        "import matplotlib.pyplot as plt\n",
        "\n",
        "from scipy.stats import norm\n",
        "\n",
        "# definindo função para Pontos de Intersecção das Classes, Limiar\n",
        "def threshold(m1,m2,std1,std2):\n",
        "  a = 1/(2*std1**2) - 1/(2*std2**2)\n",
        "  b = m2/(std2**2) - m1/(std1**2)\n",
        "  c = m1**2 /(2*std1**2) - m2**2 / (2*std2**2) - np.log(std2/std1)\n",
        "  return np.roots([a,b,c])"
      ],
      "execution_count": null,
      "outputs": []
    },
    {
      "cell_type": "markdown",
      "metadata": {
        "id": "o4o8c6ImeO4S"
      },
      "source": [
        "## **Obtendo o Conjunto de Dados**\n",
        "\n",
        "Informações adicionais em:\n",
        "1.   [CoreDump.biz](https://pt.coredump.biz/questions/32551610/overlapping-probability-of-two-normal-distribution-with-scipy)\n",
        "2.   [Tutoriels Tanagra](http://tutoriels-data-mining.blogspot.com/)\n",
        "3.   [Ricco Rakotomalala, pdf](http://eric.univ-lyon2.fr/~ricco/tanagra/fichiers/en_Tanagra_Calcul_P_Value.pdf)"
      ]
    },
    {
      "cell_type": "code",
      "metadata": {
        "id": "AUHT-8W5XFUx"
      },
      "source": [
        "df = pd.read_csv('https://raw.githubusercontent.com/SamuelOliveira/Colab/main/dados_atividade_02.csv')\n",
        "data0 = df.loc[df.classe == 0]['atributo']\n",
        "data1 = df.loc[df.classe == 1]['atributo']"
      ],
      "execution_count": null,
      "outputs": []
    },
    {
      "cell_type": "markdown",
      "metadata": {
        "id": "RrvXK3SMeW_W"
      },
      "source": [
        "## **Obtendo Estatisticas Descritivas**"
      ]
    },
    {
      "cell_type": "code",
      "metadata": {
        "id": "J349_yivedmm"
      },
      "source": [
        "# obtendo estatisticas descritivas\n",
        "data0_std = data0.std(axis=0)\n",
        "data1_std = data1.std(axis=0)\n",
        "\n",
        "# obtendo média por classes\n",
        "data0_mean = data0.mean(axis=0)\n",
        "data1_mean = data1.mean(axis=0)\n",
        "\n",
        "# obtendo pontos de intersecção, Limiar de Classificação\n",
        "data_lc = threshold(data0_mean,data1_mean,data0_std,data1_std)\n",
        "data_threshold = [data_lc[1]]"
      ],
      "execution_count": null,
      "outputs": []
    },
    {
      "cell_type": "markdown",
      "metadata": {
        "id": "2nIkA3YBjXrU"
      },
      "source": [
        "## **Resoluções**"
      ]
    },
    {
      "cell_type": "markdown",
      "metadata": {
        "id": "1HtJSr_aZDUj"
      },
      "source": [
        "**a)** Trace os histogramas dos dados, utilizando cores diferentes para cada uma das classes"
      ]
    },
    {
      "cell_type": "code",
      "metadata": {
        "id": "TYezOngrh5rw",
        "colab": {
          "base_uri": "https://localhost:8080/",
          "height": 281
        },
        "outputId": "8dce38fd-fc49-4f9a-9f09-6ed88d0bc747"
      },
      "source": [
        "plt.title('Distribuição de Classes')\n",
        "\n",
        "count_0, bins_0, ignored = plt.hist(data0, 200, alpha=0.4, label='classe 0', density=True, color='#3edbf0');\n",
        "count_1, bins_1, ignored = plt.hist(data1, 200, alpha=0.4, label='classe 1', density=True, color='#ff8474');\n",
        "plt.legend(loc='upper right')\n",
        "\n",
        "plt.plot(bins_0,norm.pdf(bins_0, data0_mean, data0_std), '--', color='#ff8474');\n",
        "plt.plot(bins_1,norm.pdf(bins_1, data1_mean, data1_std), '--', color='#3edbf0');\n",
        "\n",
        "plt.plot(data_threshold,norm.pdf(data_threshold,data0_mean,data0_std),'o');"
      ],
      "execution_count": null,
      "outputs": [
        {
          "output_type": "display_data",
          "data": {
            "image/png": "[encoded data removed]",
            "text/plain": [
              "<Figure size 432x288 with 1 Axes>"
            ]
          },
          "metadata": {
            "tags": [],
            "needs_background": "light"
          }
        }
      ]
    },
    {
      "cell_type": "markdown",
      "metadata": {
        "id": "dxchsTCtZknJ"
      },
      "source": [
        "**b)** Obtenha o limiar de classificação considerando uma abordagem de classificação baseada na máxima verossimilhança."
      ]
    },
    {
      "cell_type": "code",
      "metadata": {
        "colab": {
          "base_uri": "https://localhost:8080/"
        },
        "id": "dOMIRoyzZDEf",
        "outputId": "573ceb4e-b287-4e83-ec62-14f11fbc44b3"
      },
      "source": [
        "print(\"Limiar de Classificação:\", data_threshold)"
      ],
      "execution_count": null,
      "outputs": [
        {
          "output_type": "stream",
          "text": [
            "Limiar de Classificação: [0.1643496088390746]\n"
          ],
          "name": "stdout"
        }
      ]
    },
    {
      "cell_type": "markdown",
      "metadata": {
        "id": "TuOGG5cFbK6o"
      },
      "source": [
        "**(c)** Calcule a probabilidade de erro (teórica) de classificação para cada uma das classes, bem como a probabilidade de erro total (considerando as duas classes) da abordagem de máxima verossimilhança."
      ]
    },
    {
      "cell_type": "code",
      "metadata": {
        "colab": {
          "base_uri": "https://localhost:8080/"
        },
        "id": "pnvX1HCKbNL2",
        "outputId": "52ca09b5-edcd-4326-a3a9-3e373e971726"
      },
      "source": [
        "erro_theoretical_0 = 1 - norm.cdf(data_threshold, data0_mean, data0_std)\n",
        "erro_theoretical_1 = norm.cdf(data_threshold, data1_mean, data1_std)\n",
        "\n",
        "erro_theoretical_total = erro_theoretical_0 + erro_theoretical_1\n",
        "\n",
        "print('% Erro teórico classe 0 : ', erro_theoretical_0 * 100)\n",
        "print('% Erro teórico classe 1 : ', erro_theoretical_1 * 100)\n",
        "print('% Erro teórico Total    : ', erro_theoretical_total * 100)"
      ],
      "execution_count": null,
      "outputs": [
        {
          "output_type": "stream",
          "text": [
            "% Erro teórico classe 0 :  [4.80362767]\n",
            "% Erro teórico classe 1 :  [12.26975932]\n",
            "% Erro teórico Total    :  [17.07338699]\n"
          ],
          "name": "stdout"
        }
      ]
    },
    {
      "cell_type": "markdown",
      "metadata": {
        "id": "aw3vmLlAdimb"
      },
      "source": [
        "**(d)** Calcule a taxa de erro (empírica) de classificação para cada uma das classes, bem como a taxa de erro total (considerando as duas classes) da abordagem de máxima verossimilhança. Compare com o resultado obtido no item **(c)**."
      ]
    },
    {
      "cell_type": "code",
      "metadata": {
        "colab": {
          "base_uri": "https://localhost:8080/"
        },
        "id": "UHyAzkLXmJSL",
        "outputId": "d40bdf4e-ff26-423b-c968-487b8b1f104a"
      },
      "source": [
        "y = df['classe'].values\n",
        "x = df['atributo'].values\n",
        "\n",
        "samples_total = df.shape[0]\n",
        "y_pred = np.zeros(samples_total)\n",
        "\n",
        "for i in range(1,samples_total):\n",
        "  z = x[i]\n",
        "  if z<data_threshold:\n",
        "    y_pred[i] = 0\n",
        "  else:\n",
        "    y_pred[i] = 1\n",
        "\n",
        "print('Taxa de erro empirico : ', round(sum(abs(y_pred-y)/samples_total),2))"
      ],
      "execution_count": null,
      "outputs": [
        {
          "output_type": "stream",
          "text": [
            "Taxa de erro empirico :  0.07\n"
          ],
          "name": "stdout"
        }
      ]
    },
    {
      "cell_type": "markdown",
      "metadata": {
        "id": "_ygxQsjLpCur"
      },
      "source": [
        "**(e)** Proponha um novo classificador que leve em conta o desbalanço entre as duas classes. Obtenha o limiar de classificação neste caso."
      ]
    },
    {
      "cell_type": "code",
      "metadata": {
        "colab": {
          "base_uri": "https://localhost:8080/",
          "height": 281
        },
        "id": "_IoMmAJIUvF3",
        "outputId": "eb57e314-2f34-4d7f-e36e-b47bc641d5b8"
      },
      "source": [
        "N_1 = 1000\n",
        "N_2 = 6500\n",
        "mu_1, sigma_1 = 0.0, 0.1\n",
        "mu_2, sigma_2 = 0.2, 0.15\n",
        "x1 = norm.rvs(mu_1, sigma_1, N_1)\n",
        "x2 = norm.rvs(mu_2, sigma_2, N_2)\n",
        "\n",
        "plt.title('Distribuição de Classes')\n",
        "count_1, bins_1, ignored = plt.hist(x1, 200, alpha=0.3, label='classe 1', density=True, color='#aa2ee6');\n",
        "count_2, bins_2, ignored = plt.hist(x2, 200, alpha=0.3, label='classe 2', density=True, color='#ff5200');\n",
        "plt.legend(loc='upper right')\n",
        "\n",
        "plt.plot(bins_1,norm.pdf(bins_1, mu_1, sigma_1),'--', color='#aa2ee6');\n",
        "plt.plot(bins_2,norm.pdf(bins_2, mu_2, sigma_2),'--', color='#ff5200');\n",
        "\n",
        "data_lc = threshold(mu_1,mu_2,sigma_1,sigma_2)\n",
        "data_threshold_new = [data_lc[1]]\n",
        "\n",
        "plt.plot(data_threshold_new,norm.pdf(data_threshold_new,mu_1,sigma_1),'o');"
      ],
      "execution_count": null,
      "outputs": [
        {
          "output_type": "display_data",
          "data": {
            "image/png": "[encoded data removed]",
            "text/plain": [
              "<Figure size 432x288 with 1 Axes>"
            ]
          },
          "metadata": {
            "tags": [],
            "needs_background": "light"
          }
        }
      ]
    },
    {
      "cell_type": "code",
      "metadata": {
        "colab": {
          "base_uri": "https://localhost:8080/"
        },
        "id": "0FgkG0ibGJaW",
        "outputId": "4b5977b9-55af-460d-80e0-f05b03569eae"
      },
      "source": [
        "print(\"Limiar de Classificação:\", data_threshold_new)"
      ],
      "execution_count": null,
      "outputs": [
        {
          "output_type": "stream",
          "text": [
            "Limiar de Classificação: [0.1086945177927788]\n"
          ],
          "name": "stdout"
        }
      ]
    },
    {
      "cell_type": "markdown",
      "metadata": {
        "id": "K3X3hUBOZY2E"
      },
      "source": [
        "**(f)** Repita os itens **(d)**, porém agora considerando o limiar de classificação definido pela proposta do item **(e)**."
      ]
    },
    {
      "cell_type": "code",
      "metadata": {
        "colab": {
          "base_uri": "https://localhost:8080/"
        },
        "id": "16n0ARfXZbwl",
        "outputId": "020f9fed-7c8a-4da7-dd04-13a0d3843fa4"
      },
      "source": [
        "zeros_ = np.zeros(N_1)\n",
        "ones_ = np.ones(N_2)\n",
        "\n",
        "x = np.concatenate((x1,x2),axis=0)\n",
        "y = np.concatenate((zeros_,ones_),axis=0)\n",
        "\n",
        "y_pred = np.zeros(N_1+N_2)\n",
        "\n",
        "for i in range(1,(N_1+N_2)):\n",
        "  z = x[i]\n",
        "  if z<data_threshold_new:\n",
        "    y_pred[i] = 0\n",
        "  else:\n",
        "    y_pred[i] = 1\n",
        "\n",
        "print('Taxa de erro empirico : ', round(sum(abs(y_pred-y)/(N_1+N_2)),2))"
      ],
      "execution_count": null,
      "outputs": [
        {
          "output_type": "stream",
          "text": [
            "Taxa de erro empirico :  0.26\n"
          ],
          "name": "stdout"
        }
      ]
    },
    {
      "cell_type": "markdown",
      "metadata": {
        "id": "Qw0Ayo3rgXme"
      },
      "source": [
        "**(g)** Comente eventuais diferenças entre os desempenhos dos classificadores propostos nos itens **(b)** e **(e)**."
      ]
    },
    {
      "cell_type": "markdown",
      "metadata": {
        "id": "0tx37ljwf10q"
      },
      "source": [
        "### **Observações:**\n",
        "\n",
        "*   Com o maior desbalanceamento do conjunto de dados, ocorreu aumento na taxa de erro;\n",
        "*   A plotagem demonstra que o novo classificador apresenta maior área de intersecção entre as classes tornando a classificação baseada na **máxima verossimilhança** um fator decisivo."
      ]
    }
  ]
}