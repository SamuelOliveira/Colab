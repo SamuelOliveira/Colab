{
  "nbformat": 4,
  "nbformat_minor": 0,
  "metadata": {
    "colab": {
      "name": "FT043_2021S1_T4.ipynb",
      "provenance": [],
      "collapsed_sections": [
        "B-7befYeDsBm"
      ],
      "include_colab_link": true
    },
    "kernelspec": {
      "name": "python3",
      "display_name": "Python 3"
    },
    "language_info": {
      "name": "python"
    },
    "accelerator": "GPU"
  },
  "cells": [
    {
      "cell_type": "markdown",
      "metadata": {
        "id": "view-in-github",
        "colab_type": "text"
      },
      "source": [
        "<a href=\"https://colab.research.google.com/github/SamuelOliveira/Colab/blob/main/FT043_2021S1_T4.ipynb\" target=\"_parent\"><img src=\"https://colab.research.google.com/assets/colab-badge.svg\" alt=\"Open In Colab\"/></a>"
      ]
    },
    {
      "cell_type": "markdown",
      "metadata": {
        "id": "_1jywyp-Dngo"
      },
      "source": [
        "```\n",
        "Author: Samuel Oliveira da Silva\n",
        "RA: 231294\n",
        "Email: s231294@g.unicamp.br\n",
        "FT084_2021S1_T4\n",
        "```"
      ]
    },
    {
      "cell_type": "markdown",
      "metadata": {
        "id": "B-7befYeDsBm"
      },
      "source": [
        "## **Enunciado**\n",
        "\n",
        "**1.** Dois algoritmos de aprendizado de máquina são avaliados com relação ao tempo de execução necessário para obter um desempenho pré-estabelecido. Como o tempo de execução depende das entradas apresentadas, é necessário testar os algoritmos considerando diferentes realizações. Na **Tabela 1**, são apresentados os tempos de execução para cada um dos algoritmos (foram executadas 30 realizações). Assumindo que o tempo de execução pode ser modelado por uma distribuição normal, e que os desempenhos dos algoritmos são independentes, compare o desempenho dos dois algoritmos."
      ]
    },
    {
      "cell_type": "markdown",
      "metadata": {
        "id": "ju_GBIF_DwqN"
      },
      "source": [
        "## **Importando bibliotecas**\n",
        "\n"
      ]
    },
    {
      "cell_type": "code",
      "metadata": {
        "id": "rDhsty5aDySK"
      },
      "source": [
        "import numpy as np\n",
        "import pandas as pd\n",
        "import scipy.stats as st\n",
        "import statistics as stpy\n",
        "import matplotlib.pyplot as plt\n",
        "\n",
        "from scipy.stats import sem, t"
      ],
      "execution_count": null,
      "outputs": []
    },
    {
      "cell_type": "markdown",
      "metadata": {
        "id": "cwZ6utlvEDLf"
      },
      "source": [
        "## **Obtendo o Conjunto de Dados**\n",
        "\n",
        "\n"
      ]
    },
    {
      "cell_type": "code",
      "metadata": {
        "id": "tP-DPqkwEF3F"
      },
      "source": [
        "dados = pd.read_csv('https://raw.githubusercontent.com/SamuelOliveira/Colab/main/dados_atividade_05.csv')"
      ],
      "execution_count": null,
      "outputs": []
    },
    {
      "cell_type": "markdown",
      "metadata": {
        "id": "J9hcQY2D6ym4"
      },
      "source": [
        "## **Obtendo Estatisticas Descritivas**\n",
        "\n",
        "\n"
      ]
    },
    {
      "cell_type": "code",
      "metadata": {
        "colab": {
          "base_uri": "https://localhost:8080/"
        },
        "id": "1B8E8jvr62Mh",
        "outputId": "4975f6a0-dcb3-47f6-d3e2-d353ac2d09ea"
      },
      "source": [
        "# obtendo estatisticas descritivas\n",
        "t1 = dados.loc[dados.ID != 0]['T1']\n",
        "t2 = dados.loc[dados.ID != 0]['T2']\n",
        "\n",
        "\n",
        "# Nível de Confiança\n",
        "tl = 0.95\n",
        "\n",
        "# Grau de Liberdade\n",
        "df_t1 = len(t1)-1\n",
        "df_t2 = len(t2)-1\n",
        "\n",
        "# Média Amostral\n",
        "mu_t1 = round(stpy.mean(t1),2)\n",
        "mu_t2 = round(stpy.mean(t2),2)\n",
        "\n",
        "# Desvio amostral\n",
        "sigma_t1 = round(stpy.stdev(data=t1),2)\n",
        "sigma_t2 = round(stpy.stdev(data=t2),2)\n",
        "\n",
        "y1 = t.pdf(t1,df_t1, mu_t1, sigma_t1)\n",
        "y2 = t.pdf(t2,df_t2, mu_t2, sigma_t2)\n",
        "\n",
        "print(\"Media T1 {} \\nMédia T2 {}\".format(round(mu_t1,2), round(mu_t2,2)))\n",
        "print(\"Desvio amostral T1 {} \\nDesvio amostral T2 {}\".format(sigma_t1,2, sigma_t2))"
      ],
      "execution_count": null,
      "outputs": [
        {
          "output_type": "stream",
          "text": [
            "Media T1 3.57 \n",
            "Média T2 4.21\n",
            "Desvio amostral T1 1.47 \n",
            "Desvio amostral T2 2\n"
          ],
          "name": "stdout"
        }
      ]
    },
    {
      "cell_type": "markdown",
      "metadata": {
        "id": "hbvtQSm4uDTj"
      },
      "source": [
        "## **Obtendo Intervalo de Confiança**\n",
        "\n",
        "\n",
        "\n",
        "\n",
        "1.   Desvio Desconhecido ***t Distribution***\n"
      ]
    },
    {
      "cell_type": "code",
      "metadata": {
        "colab": {
          "base_uri": "https://localhost:8080/"
        },
        "id": "Prfx9X6CaTPt",
        "outputId": "21c8fa50-27e5-4f49-e5c6-59849f2f5ec0"
      },
      "source": [
        "# Intervalo de Confiança para sigma Desconhecido\n",
        "ic_t1 = t.interval(alpha=tl, df=df_t1, loc=mu_t1, scale=st.sem(t1))\n",
        "ic_t1 = [round(ic_t1[0],2), round(ic_t1[1],2)]\n",
        "\n",
        "ic_t2 = t.interval(alpha=tl, df=df_t2, loc=mu_t2, scale=st.sem(t2))\n",
        "ic_t2 = [round(ic_t2[0],2), round(ic_t2[1],2)]\n",
        "\n",
        "print(\"Intervalo de Confiança T1 {} \\nIntervalo de Confiança T2 {}\".format(ic_t1, ic_t2))"
      ],
      "execution_count": null,
      "outputs": [
        {
          "output_type": "stream",
          "text": [
            "Intervalo de Confiança T1 [3.02, 4.12] \n",
            "Intervalo de Confiança T2 [3.75, 4.67]\n"
          ],
          "name": "stdout"
        }
      ]
    },
    {
      "cell_type": "markdown",
      "metadata": {
        "id": "Z1um3iq3_qpg"
      },
      "source": [
        "## **Obtendo Intersecção Amostras T1 e T2**\n",
        "\n"
      ]
    },
    {
      "cell_type": "code",
      "metadata": {
        "colab": {
          "base_uri": "https://localhost:8080/",
          "height": 369
        },
        "id": "kg6pQP5JpXmU",
        "outputId": "1b2c47e7-0865-4a3e-8861-25d284befbc8"
      },
      "source": [
        "plt.style.use('seaborn-whitegrid')\n",
        "fig, ax = plt.subplots(figsize=(14, 5))\n",
        "\n",
        "\n",
        "ax.errorbar(mu_t1, 0, xerr=(ic_t1[1]),\n",
        "            fmt='o', markersize=8, capsize=5, label='95% IC Algoritimo T1', color='k')\n",
        "\n",
        "ax.errorbar(mu_t2, 1, xerr=(ic_t2[0]),\n",
        "            fmt='o', markersize=8, capsize=5, label='95% IC Algoritimo T2', color='grey')\n",
        "\n",
        "ax.set_ylim(-0.5, 1.8)\n",
        "ax.fill_betweenx([0, 1], mu_t2-ic_t2[0], mu_t1+ic_t1[1], facecolor='orange', alpha=0.1)\n",
        "\n",
        "ax.legend(loc='best', fontsize=11, framealpha=1, frameon=True)\n",
        "ax.set_xlabel('Figura 1 - Intersecção entre as Amostras', fontsize=13)\n",
        "\n",
        "ax.yaxis.set_major_formatter(plt.NullFormatter())\n",
        "\n",
        "fig.tight_layout();"
      ],
      "execution_count": null,
      "outputs": [
        {
          "output_type": "display_data",
          "data": {
            "image/png": "[encoded data removed]",
            "text/plain": [
              "<Figure size 1008x360 with 1 Axes>"
            ]
          },
          "metadata": {
            "tags": []
          }
        }
      ]
    },
    {
      "cell_type": "markdown",
      "metadata": {
        "id": "TJ9rMRRsAvM_"
      },
      "source": [
        "* A análise da **Figura 1** é inconclusiva pois embora exista intersecção entre os intervalos das amostras **Algoritimo 1** e **Algoritimo 2** não se pode concluir qual dos dois algoritimos apresentou melhor desempenho, pela própria declaração do enunciado \"*... que os desempenhos dos algoritmos são independentes*\"\n",
        "\n",
        "* Aplicando o mesmo Nível de Confiança *95%* nos dois algoritimos obtivemos IC *(Intervalos de Confiança)* diferentes:\n",
        "    *   IC Algoritimo 1: [3.02, 4,12], [IC superior] - [IC inferior] = **1.1**, margem de erro maior, **pior em termos probabilísticos**\n",
        "    *   IC Algoritimo 2: [3.75, 4,67], [IC superior] - [IC inferior] = **0.92**, margem de erro menor, **melhor em termos probabilísticos**\n",
        "\n",
        "A partir destas observações numéricas, começamos a suspeitar que uma análise das amostras que contém o intervalo poderia nos fornecer mais informações sobre o desempenho comparativos entre os dois algoritimos, T1 e T2.\n"
      ]
    },
    {
      "cell_type": "markdown",
      "metadata": {
        "id": "hG3PSOj_pr2H"
      },
      "source": [
        "## **Resoluções Algoritimo 1**\n",
        "\n"
      ]
    },
    {
      "cell_type": "code",
      "metadata": {
        "colab": {
          "base_uri": "https://localhost:8080/",
          "height": 366
        },
        "id": "Sc2_tlmHpy4s",
        "outputId": "02ff9e29-7b77-4c6a-9037-f9d3845c23b9"
      },
      "source": [
        "# numero de intervalos\n",
        "Ns = len(t1)\n",
        "# media populacional\n",
        "mu = mu_t1\n",
        "# desvio padrão populacional\n",
        "sigma = sigma_t1\n",
        "\n",
        "beta = tl # nivel de confianca\n",
        "zalpha = 1.96 # valor de z (a partir de beta)\n",
        "c = 0 # conta o numero de intervalos que contem a media\n",
        "plt.figure(figsize=(14,5))\n",
        "\n",
        "for s in range(0,Ns):\n",
        "    x = t1[s]                                   # amostra\n",
        "    IC1 = np.mean(x) - zalpha*sigma/np.sqrt(Ns) #intervalo inferior\n",
        "    IC2 = np.mean(x) + zalpha*sigma/np.sqrt(Ns) #intervalo superior\n",
        "    is_between = ic_t1[0] <= x <= ic_t1[1]\n",
        "    if(is_between):\n",
        "        c =  c + 1\n",
        "        # mostra o intervalo que contem a media\n",
        "        plt.vlines(s, ymin=IC1, ymax=IC2, color='blue', linestyles='dashed', lw=2)\n",
        "        plt.plot(s, np.mean(x), 'o', color='red', markersize=7)\n",
        "    else:\n",
        "        # mostra o intervalo em cinza se não contem a media        \n",
        "        plt.vlines(s, ymin=IC1, ymax=IC2, color='gray', linestyles='dashed', lw=1)\n",
        "        plt.plot(s, np.mean(x), 'o', color='gray', markersize=5)\n",
        "\n",
        "mu_Ns = round(c/Ns,2)*100\n",
        "\n",
        "plt.axhline(y=mu, color='orange') # mostra a media populacional\n",
        "plt.xlabel('Figura 2 - Amostras T1 que contém a média', fontsize=13)\n",
        "plt.show()\n",
        "print('Nível de confiança: {}%'.format(beta*100))\n",
        "print('Fração de intervalos que contém a média: {}%'.format(mu_Ns))"
      ],
      "execution_count": null,
      "outputs": [
        {
          "output_type": "display_data",
          "data": {
            "image/png": "[encoded data removed]",
            "text/plain": [
              "<Figure size 1008x360 with 1 Axes>"
            ]
          },
          "metadata": {
            "tags": []
          }
        },
        {
          "output_type": "stream",
          "text": [
            "Nível de confiança: 95.0%\n",
            "Fração de intervalos que contém a média: 30.0%\n"
          ],
          "name": "stdout"
        }
      ]
    },
    {
      "cell_type": "markdown",
      "metadata": {
        "id": "TtusC8-uRnvm"
      },
      "source": [
        "* A **Figura 2** apresenta um total de 9 amostras 30% que contém o intervalo, observa-se que a **margem de erro** para estas amostras é de **1.1** conforme descrito na etapa *Obtendo Intersecção Amostras T1 e T2*. "
      ]
    },
    {
      "cell_type": "markdown",
      "metadata": {
        "id": "QBOwz0CbBLwX"
      },
      "source": [
        "## **Resoluções Algoritimo 2**\n",
        "\n"
      ]
    },
    {
      "cell_type": "code",
      "metadata": {
        "colab": {
          "base_uri": "https://localhost:8080/",
          "height": 366
        },
        "id": "xvB7SNTABJjt",
        "outputId": "d8316e0d-259a-4f4b-f74f-a190f93c0d03"
      },
      "source": [
        "# numero de intervalos\n",
        "Ns = len(t2)\n",
        "# media populacional\n",
        "mu = mu_t2\n",
        "# desvio padrão populacional\n",
        "sigma = sigma_t2\n",
        "\n",
        "beta = tl # nivel de confianca\n",
        "zalpha = 1.96 # valor de z (a partir de beta)\n",
        "c = 0 # conta o numero de intervalos que contem a media\n",
        "plt.figure(figsize=(14,5))\n",
        "\n",
        "for s in range(0,Ns):\n",
        "    x = t2[s]                                   # amostra\n",
        "    IC1 = np.mean(x) - zalpha*sigma/np.sqrt(Ns) #intervalo inferior\n",
        "    IC2 = np.mean(x) + zalpha*sigma/np.sqrt(Ns) #intervalo superior\n",
        "    is_between = ic_t2[0] <= x <= ic_t2[1]\n",
        "    if(is_between):\n",
        "        c =  c + 1\n",
        "        # mostra o intervalo que contem a media\n",
        "        plt.vlines(s, ymin=IC1, ymax=IC2, color='blue', linestyles='dashed', lw=2)\n",
        "        plt.plot(s, np.mean(x), 'o', color='red', markersize=7)\n",
        "    else:\n",
        "        # mostra o intervalo em cinza se não contem a media        \n",
        "        plt.vlines(s, ymin=IC1, ymax=IC2, color='gray', linestyles='dashed', lw=1)\n",
        "        plt.plot(s, np.mean(x), 'o', color='gray', markersize=5)\n",
        "\n",
        "mu_Ns = round(c/Ns,2)*100\n",
        "\n",
        "plt.axhline(y=mu, color='orange') # mostra a media populacional\n",
        "plt.xlabel('Figura 3 - Amostras T2 que contém a média', fontsize=13)\n",
        "plt.show()\n",
        "print('Nível de confiança: {}%'.format(beta*100))\n",
        "print('Fração de intervalos que contém a média: {}%'.format(mu_Ns))"
      ],
      "execution_count": null,
      "outputs": [
        {
          "output_type": "display_data",
          "data": {
            "image/png": "[encoded data removed]",
            "text/plain": [
              "<Figure size 1008x360 with 1 Axes>"
            ]
          },
          "metadata": {
            "tags": []
          }
        },
        {
          "output_type": "stream",
          "text": [
            "Nível de confiança: 95.0%\n",
            "Fração de intervalos que contém a média: 20.0%\n"
          ],
          "name": "stdout"
        }
      ]
    },
    {
      "cell_type": "markdown",
      "metadata": {
        "id": "5rOkf4yySuIZ"
      },
      "source": [
        "* A **Figura 3** apresenta um total de 6 amostras 20% que contém o intervalo, observa-se que a **margem de erro** para estas amostras é de **0.92** conforme descrito na etapa *Obtendo Intersecção Amostras T1 e T2*."
      ]
    },
    {
      "cell_type": "markdown",
      "metadata": {
        "id": "5lkdGMHVTFqV"
      },
      "source": [
        "## **Conclusões**\n",
        "\n",
        "\n",
        "\n",
        "\n",
        "No **Algorítimo 1 - T1** um número maior de amostras contém o Intervalo de Confiança do que o **Algorítimo 2 - T2**, 9 e 6 respectivamente.\n",
        "No entanto, em termos probabilísticos o **Algoritimo T2** seguiu com a menor margem de erro **0.92**, obtendo o **melhor desempenho**."
      ]
    }
  ]
}