{
  "nbformat": 4,
  "nbformat_minor": 0,
  "metadata": {
    "colab": {
      "name": "FT043_2021S1_T4.ipynb",
      "provenance": [],
      "collapsed_sections": [
        "N5IhKzbyZ4sU"
      ],
      "authorship_tag": "ABX9TyMVyRzE/zJNiAtvgitJlDM0",
      "include_colab_link": true
    },
    "kernelspec": {
      "name": "python3",
      "display_name": "Python 3"
    },
    "language_info": {
      "name": "python"
    },
    "accelerator": "GPU"
  },
  "cells": [
    {
      "cell_type": "markdown",
      "metadata": {
        "id": "view-in-github",
        "colab_type": "text"
      },
      "source": [
        "<a href=\"https://colab.research.google.com/github/SamuelOliveira/Colab/blob/main/FT043_2021S1_T4.ipynb\" target=\"_parent\"><img src=\"https://colab.research.google.com/assets/colab-badge.svg\" alt=\"Open In Colab\"/></a>"
      ]
    },
    {
      "cell_type": "markdown",
      "metadata": {
        "id": "OR8TRlyJXM5x"
      },
      "source": [
        "```\n",
        "Author: Samuel Oliveira da Silva\n",
        "RA: 231294\n",
        "Email: s231294@g.unicamp.br\n",
        "FT084_2021S1_T4\n",
        "```"
      ]
    },
    {
      "cell_type": "markdown",
      "metadata": {
        "id": "N5IhKzbyZ4sU"
      },
      "source": [
        "## **Enunciado**\n",
        "\n",
        "**1.** Dois algoritmos de aprendizado de máquina são avaliados com relação ao tempo de execução necessário para obter um desempenho pré-estabelecido. Como o tempo de execução depende das entradas apresentadas, é necessário testar os algoritmos considerando diferentes realizações. Na Tabela 1, são apresentados os tempos de execução para cada um dos algoritmos (foram executadas 30 realizações). Assumindo que o tempo de execução pode ser modelado por uma distribuição normal, e que os desempenhos dos algoritmos são independentes, compare o desempenho dos dois algoritmos.\n",
        "\n",
        "https://github.com/chaipi-chaya/Illustration-with-Python/blob/master/Illustration%20with%20Python%20Confidence%20Interval.ipynb\n",
        "\n",
        "https://www.youtube.com/watch?v=AkmyfLc-EOs\n",
        "\n",
        "https://www.youtube.com/watch?v=srRr3N56X3c&t=300s\n",
        "\n",
        "https://cursos.alura.com.br/forum/topico-como-identificar-um-nivel-de-confianca-aceitavel-125039\n"
      ]
    },
    {
      "cell_type": "markdown",
      "metadata": {
        "id": "CKH9j1UhguCu"
      },
      "source": [
        "## **Importando bibliotecas**"
      ]
    },
    {
      "cell_type": "code",
      "metadata": {
        "id": "lbw0pmFmXWdl"
      },
      "source": [
        "import math\n",
        "import random\n",
        "import numpy as np\n",
        "import pandas as pd\n",
        "import scipy.stats as st\n",
        "import matplotlib.pyplot as plt\n",
        "import statsmodels.stats.api as sms\n",
        "\n",
        "from scipy.stats import norm, t\n",
        "\n",
        "def to_numpy(value):\n",
        "  n_value = value.to_numpy(dtype='float64')[0]\n",
        "  return n_value"
      ],
      "execution_count": 159,
      "outputs": []
    },
    {
      "cell_type": "markdown",
      "metadata": {
        "id": "o4o8c6ImeO4S"
      },
      "source": [
        "## **Obtendo o Conjunto de Dados**"
      ]
    },
    {
      "cell_type": "code",
      "metadata": {
        "id": "AUHT-8W5XFUx"
      },
      "source": [
        "df = pd.read_csv('https://raw.githubusercontent.com/SamuelOliveira/Colab/main/dados_atividade_05.csv')\n",
        "df_t1 = pd.DataFrame(df, columns=[\"T1\"])\n",
        "df_t2 = pd.DataFrame(df, columns=[\"T2\"])\n",
        "\n",
        "# df_t1 = df.loc[df.ID != 0]['T1']\n",
        "# df_t2 = df.loc[df.ID != 1]['T2']\n",
        "\n",
        "T1 = df_t1[\"T1\"].values\n",
        "T2 = df_t2[\"T2\"].values"
      ],
      "execution_count": 160,
      "outputs": []
    },
    {
      "cell_type": "markdown",
      "metadata": {
        "id": "RrvXK3SMeW_W"
      },
      "source": [
        "## **Obtendo Estatisticas Descritivas**"
      ]
    },
    {
      "cell_type": "code",
      "metadata": {
        "id": "J349_yivedmm",
        "colab": {
          "base_uri": "https://localhost:8080/"
        },
        "outputId": "b7cf1078-cbc7-47f5-f5db-e8ac343087c3"
      },
      "source": [
        "# obtendo estatisticas descritivas\n",
        "\n",
        "# sigma = desvio padrão\n",
        "sigma_T1 = to_numpy(round(df_t1.std(axis=0),2))\n",
        "sigma_T2 = to_numpy(round(df_t2.std(axis=0),2))\n",
        "\n",
        "# mu = média amostral\n",
        "mu_T1 = to_numpy(round(df_t1.mean(axis=0),2))\n",
        "mu_T2 = to_numpy(round(df_t2.mean(axis=0),2))\n",
        "\n",
        "# intervalo de confiança\n",
        "ic_T1 = sms.DescrStatsW(T1).tconfint_mean()\n",
        "ic_T2 = sms.DescrStatsW(T2).tconfint_mean()\n",
        "\n",
        "ic_T1 = [round(ic_T1[0],2), round(ic_T1[1],2)]\n",
        "ic_T2 = [round(ic_T2[0],2), round(ic_T2[1],2)]\n",
        "\n",
        "print('Intervalo de confiança T1: {}\\nIntervalo de confiança T2: {}\\n'.format(ic_T1, ic_T2))\n",
        "print('sigma T1: {}\\nsigma T2: {}\\n'.format(sigma_T1, sigma_T2))\n",
        "print('media T1: {}\\nmedia T2: {}\\n'.format(mu_T1, mu_T2))"
      ],
      "execution_count": 161,
      "outputs": [
        {
          "output_type": "stream",
          "text": [
            "Intervalo de confiança T1: [3.02, 4.12]\n",
            "Intervalo de confiança T2: [3.75, 4.67]\n",
            "\n",
            "sigma T1: 1.47\n",
            "sigma T2: 1.23\n",
            "\n",
            "media T1: 3.57\n",
            "media T2: 4.21\n",
            "\n"
          ],
          "name": "stdout"
        }
      ]
    },
    {
      "cell_type": "code",
      "metadata": {
        "colab": {
          "base_uri": "https://localhost:8080/",
          "height": 320
        },
        "id": "rl3CoaPTbQxA",
        "outputId": "060d4ad6-19e1-43bc-aca2-4da5ada66153"
      },
      "source": [
        "size_T1 = len(T1)\n",
        "size_T2 = len(T2)\n",
        "\n",
        "#Degrees of freedom\n",
        "degrees_freedom = (2*size_T1 - 2)/2\n",
        "\n",
        "X_C1 = t.rvs(degrees_freedom, mu_T1, sigma_T1, 1000)\n",
        "X_C2 = t.rvs(degrees_freedom, mu_T1, sigma_T2, 1000)\n",
        "\n",
        "x1 = np.sort(X_C1)\n",
        "y1 = t.pdf(x1,degrees_freedom, mu_T1, sigma_T1)\n",
        "\n",
        "x2 = np.sort(X_C2)\n",
        "y2 = t.pdf(x2,degrees_freedom, mu_T2, sigma_T2)\n",
        "\n",
        "# # cnfidence interval left line\n",
        "# one_x12, one_y12 = [np.std(s, axis=0) * -1.96, np.std(s, axis=0) * -1.96], [0, 20]\n",
        "# # cnfidence interval right line\n",
        "# two_x12, two_y12 = [np.std(s, axis=0) * 1.96, np.std(s, axis=0) * 1.96], [0, 20]\n",
        "\n",
        "plt.figure(figsize=(14,5))\n",
        "plt.plot(x1, norm.pdf(x1, mu_T1, sigma_T1), '--', color='#aa2ee6');\n",
        "plt.plot(x2, norm.pdf(x2, mu_T2, sigma_T2), '--', color='#3edbf0');\n",
        "\n",
        "plt.plot([mu_T1,mu_T1],[0, max(y1)], 'k-', lw=2, color='#aa2ee6')\n",
        "plt.plot([mu_T2,mu_T2],[0, max(y2)], 'k-', lw=2, color='#3edbf0')\n",
        "\n",
        "# plt.plot(one_x12, one_y12, two_x12, two_y12, marker = 'o')\n",
        "\n",
        "# plt.plot(ic_T1[0], ic_T1[0], ic_T1[0], ic_T1[0], marker = 'o')\n",
        "# plt.plot([mu+(1.96*sigma/np.sqrt(samplesize)),mu+(1.96*sigma/np.sqrt(samplesize))],[0, 3.2], 'k-', lw=2, color='navy')\n",
        "plt.show()"
      ],
      "execution_count": 171,
      "outputs": [
        {
          "output_type": "display_data",
          "data": {
            "image/png": "[encoded data removed]",
            "text/plain": [
              "<Figure size 1008x360 with 1 Axes>"
            ]
          },
          "metadata": {
            "tags": [],
            "needs_background": "light"
          }
        }
      ]
    },
    {
      "cell_type": "markdown",
      "metadata": {
        "id": "2nIkA3YBjXrU"
      },
      "source": [
        "## **Resoluções**"
      ]
    },
    {
      "cell_type": "code",
      "metadata": {
        "colab": {
          "base_uri": "https://localhost:8080/",
          "height": 377
        },
        "id": "_iTUBMh63Xne",
        "outputId": "c5d39826-e88f-41fb-9073-7948dc79b032"
      },
      "source": [
        "# numero de intervalos\n",
        "Ns = size_T1\n",
        "# media populacional\n",
        "mu = mu_T1\n",
        "# desvio padrão populacional\n",
        "sigma = sigma_T1\n",
        "beta = 0.95 # nivel de confianca\n",
        "zalpha = 1.96 # valor de z (a partir de beta)\n",
        "c = 0 # conta o numero de intervalos que contem a media\n",
        "plt.figure(figsize=(14,5))\n",
        "\n",
        "for s in range(1,Ns):\n",
        "    x = T1[s]                                   # amostra\n",
        "    IC1 = np.mean(x) - zalpha*sigma/np.sqrt(Ns) #intervalo inferior\n",
        "    IC2 = np.mean(x) + zalpha*sigma/np.sqrt(Ns) #intervalo superior\n",
        "    is_between = x <= ic_T1[1] >= ic_T1[0]\n",
        "    if(is_between):\n",
        "        c =  c + 1\n",
        "        # mostra o intervalo em cinza se continar a media\n",
        "        plt.vlines(s, ymin=IC1, ymax=IC2, color = 'gray')\n",
        "        plt.plot(s,np.mean(x), 'o', color = 'gray', markersize=5)\n",
        "    else:\n",
        "        # mostra o intervalo que nao contem a media\n",
        "        plt.vlines(s, ymin=IC1, ymax=IC2, color = 'blue', linestyles = 'dashed')\n",
        "        plt.plot(s,np.mean(x), 'o', color = 'red', markersize=5)\n",
        "\n",
        "plt.axhline(y = mu, color = 'blue') # mostra a media populacional\n",
        "plt.xlabel('Amostras', fontsize=20)\n",
        "plt.show()\n",
        "print('Nível de confiança: {}%'.format(beta*100))\n",
        "print('Fraçao de intervalos que contém a média: {}%'.format(round(c/Ns,2)*100))"
      ],
      "execution_count": 163,
      "outputs": [
        {
          "output_type": "display_data",
          "data": {
            "image/png": "[encoded data removed]",
            "text/plain": [
              "<Figure size 1008x360 with 1 Axes>"
            ]
          },
          "metadata": {
            "tags": [],
            "needs_background": "light"
          }
        },
        {
          "output_type": "stream",
          "text": [
            "Nível de confiança: 95.0%\n",
            "Fraçao de intervalos que contém a média: 56.99999999999999%\n"
          ],
          "name": "stdout"
        }
      ]
    }
  ]
}