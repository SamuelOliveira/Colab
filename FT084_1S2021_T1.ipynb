{
  "nbformat": 4,
  "nbformat_minor": 0,
  "metadata": {
    "colab": {
      "name": "FT084_1S2021_T1.ipynb",
      "provenance": [],
      "collapsed_sections": [],
      "authorship_tag": "ABX9TyNxtCbO9YgerVH83Sp8/eQM",
      "include_colab_link": true
    },
    "kernelspec": {
      "name": "python3",
      "display_name": "Python 3"
    },
    "language_info": {
      "name": "python"
    }
  },
  "cells": [
    {
      "cell_type": "markdown",
      "metadata": {
        "id": "view-in-github",
        "colab_type": "text"
      },
      "source": [
        "<a href=\"https://colab.research.google.com/github/SamuelOliveira/Colab/blob/main/FT084_1S2021_T1.ipynb\" target=\"_parent\"><img src=\"https://colab.research.google.com/assets/colab-badge.svg\" alt=\"Open In Colab\"/></a>"
      ]
    },
    {
      "cell_type": "markdown",
      "metadata": {
        "id": "ChDr3jYabyy4"
      },
      "source": [
        "<p><img alt=\"Colaboratory logo\" height=\"45px\" src=\"https://moodle.ggte.unicamp.br/pluginfile.php/1/core_admin/logocompact/300x300/1615465513/unicamp_transp_20180409.png\" align=\"left\" hspace=\"10px\" vspace=\"0px\"></p>\n",
        "\n",
        "# Tarefa 1: Árvores de Decisão\n",
        "\n",
        "\n",
        "**Enunciado:**\n",
        "\n",
        "Existem vários pacotes de software, disponíveis na literatura, que oferecem ferramentas de aprendizagem e classificação de dados.\n",
        "\n",
        "Nesta atividade pede-se:\n",
        "\n",
        "1.   Faça um levantamento de alguns destes pacotes, identificando:\n",
        "  - Nome e link para o site de download/compra;\n",
        "  - Quais algoritmos para classificação ele oferece;\n",
        "  - É pago? É de código aberto? Tem alguma limitação?\n",
        "\n",
        "2.   Escolha uma destas ferramentas, que ofereça um algoritmo de árvore de decisão (de sua escolha), e aplique-a ao conjunto de dados [WINE](https://goo.gl/nmdfVz), disponível no [UCI Repository of Machine Learning](https://archive.ics.uci.edu/ml/index.html). Este conjunto possui 178 amostras de 03 classes.\n",
        "\n",
        "3.  Para os experimentos: \n",
        "  - Separe 80% das amostras para treinamento e 20% para testes. A escolha das amostras que farão parte dos conjuntos de treinamento e teste deve ser feita **aleatoriamente, garantindo que, nos dados de teste, existam amostras de todas as classes.**\n",
        "  - Apresente a árvore obtida e os erros de classificação para os conjuntos de treinamento e testes.\n",
        "  - Repita o experimento, fazendo uma nova partição entre amostras de treinamento e testes. Os erros foram idênticos? Comente.\n",
        "\n",
        "4.  Apresente os resultados do levantamento das ferramentas encontradas e dos experimentos realizados na forma de um relatório (formato abaixo). Neste relatório você deve **discutir as diferenças entre o algoritmo implementado na ferramenta utilizada e o visto em aula.**\n",
        "\n",
        "**Formato:**\n",
        "\n",
        "*   Fonte: Times New Roman ou Calibri;\n",
        "*   Tamanho da fonte: 12pt;\n",
        "*   Espaçamento: 1,15;\n",
        "*   Margens: 2cm;\n",
        "*   **ATENÇÃO**: seja sucinto e completo.\n",
        "\n",
        "**Informações Adicionais:**\n",
        "\n",
        "Entregar o texto em PDF e o **arquivo de dados** no formato da ferramenta escolhida (em um único arquivo .ZIP)."
      ]
    },
    {
      "cell_type": "markdown",
      "metadata": {
        "id": "Z27c4fZISPs4"
      },
      "source": [
        "# Importando Bilbiotecas"
      ]
    },
    {
      "cell_type": "code",
      "metadata": {
        "id": "mS3ikvB8bKo3"
      },
      "source": [
        "import itertools\n",
        "import pydotplus\n",
        "import numpy as np\n",
        "import pandas as pd\n",
        "import seaborn as sns\n",
        "import matplotlib.pyplot as plt\n",
        "import matplotlib.image as mpimg\n",
        "\n",
        "from sklearn.preprocessing import StandardScaler"
      ],
      "execution_count": 16,
      "outputs": []
    },
    {
      "cell_type": "markdown",
      "metadata": {
        "id": "h-xuaFc9SVLv"
      },
      "source": [
        "# DataFrame\n",
        "\n",
        "Discretizando dados continuos\n",
        "\n",
        "* atributo **Class**"
      ]
    },
    {
      "cell_type": "code",
      "metadata": {
        "id": "YJ_hYlcpSea5"
      },
      "source": [
        "df = pd.read_csv('sample_data/wine.csv')\n",
        "\n",
        "bins = [0, 1, 2, 3]\n",
        "df['Class Label'] = pd.cut(df['Class'].to_numpy(), bins=bins, labels=['A', 'B', 'C'])"
      ],
      "execution_count": 17,
      "outputs": []
    },
    {
      "cell_type": "markdown",
      "metadata": {
        "id": "h94d9HwDSPrK"
      },
      "source": [
        "# Preparando Amostras\n",
        "\n",
        "* 80% Treino\n",
        "* 20% Teste"
      ]
    },
    {
      "cell_type": "code",
      "metadata": {
        "id": "kCL2mJCDkvQc"
      },
      "source": [
        "name_label = 'Class Label'\n",
        "name_features = ['Alcohol','Malic acid','Ash','Alcalinity of ash','Magnesium','Total phenols','Flavanoids','Nonflavanoid phenols','Proanthocyanins','Color intensity','Hue','OD280/OD315 of diluted wines','Proline']\n",
        "\n",
        "# PREPARANDO O SPLIT DO DATAFRAME 80/20, AMOSTRA ALEATORIA\n",
        "df_tr = df.sample(frac=0.80)\n",
        "df_ts = df.sample(frac=0.20)\n",
        "\n",
        "Y_train, Y_test = df_tr[name_label].values, df_ts[name_label].values\n",
        "X_train, X_test = df_tr[name_features].values, df_ts[name_features].values\n",
        "\n",
        "# NORMALIZANDO AMOSTRAS DE TREINO\n",
        "scaler = StandardScaler()\n",
        "scaler.fit(X_train)\n",
        "\n",
        "X_train = scaler.transform(X_train)\n",
        "X_test = scaler.transform(X_test)\n",
        "\n",
        "# ARMAZENANDO AS AMOSTRAS\n",
        "df_tr.to_csv('sample_data/wine_train.csv')\n",
        "df_ts.to_csv('sample_data/wine_test.csv')\n"
      ],
      "execution_count": 18,
      "outputs": []
    },
    {
      "cell_type": "code",
      "metadata": {
        "id": "dvjN1GO_sXpO"
      },
      "source": [
        "# decisionTree = DecisionTreeClassifier(criterion='entropy', max_depth=5)\n",
        "# model_tree = decisionTree.fit(X_train, Y_train)\n",
        "\n",
        "# #PODEMOS MOSTRAR A FEATURE MAIS IMPORTANTE (WHITE BOX?)\n",
        "# print(model_tree.feature_importances_)\n",
        "# print('\\n')\n",
        "\n",
        "# name_classes = model_tree.classes_\n",
        "\n",
        "# # MONTAR A IMAGEM DA ÁRVORE\n",
        "# dot_data = StringIO()\n",
        "# export_graphviz(model_tree, out_file=dot_data, filled=True, feature_names=name_features, class_names=name_classes, rounded=True, special_characters=True)\n",
        "# graph = pydotplus.graph_from_dot_data(dot_data.getvalue())  \n",
        "# Image(graph.create_png())\n",
        "# graph.write_png(\"model_tree.png\")\n",
        "# Image('model_tree.png')"
      ],
      "execution_count": 19,
      "outputs": []
    }
  ]
}