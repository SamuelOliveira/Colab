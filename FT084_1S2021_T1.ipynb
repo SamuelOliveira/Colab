{
  "nbformat": 4,
  "nbformat_minor": 0,
  "metadata": {
    "colab": {
      "name": "FT084_1S2021_T1.ipynb",
      "provenance": [],
      "collapsed_sections": [],
      "authorship_tag": "ABX9TyNFPzk3ZLS4gncBc/0zJQCM",
      "include_colab_link": true
    },
    "kernelspec": {
      "name": "python3",
      "display_name": "Python 3"
    },
    "language_info": {
      "name": "python"
    }
  },
  "cells": [
    {
      "cell_type": "markdown",
      "metadata": {
        "id": "view-in-github",
        "colab_type": "text"
      },
      "source": [
        "<a href=\"https://colab.research.google.com/github/SamuelOliveira/Colab/blob/main/FT084_1S2021_T1.ipynb\" target=\"_parent\"><img src=\"https://colab.research.google.com/assets/colab-badge.svg\" alt=\"Open In Colab\"/></a>"
      ]
    },
    {
      "cell_type": "markdown",
      "metadata": {
        "id": "ChDr3jYabyy4"
      },
      "source": [
        "<p><img alt=\"Colaboratory logo\" height=\"45px\" src=\"https://moodle.ggte.unicamp.br/pluginfile.php/1/core_admin/logocompact/300x300/1615465513/unicamp_transp_20180409.png\" align=\"left\" hspace=\"10px\" vspace=\"0px\"></p>\n",
        "\n",
        "<h1>Tarefa 1: Árvores de Decisão</h1>\n",
        "\n",
        "\n",
        "**Enunciado:**\n",
        "\n",
        "Existem vários pacotes de software, disponíveis na literatura, que oferecem ferramentas de aprendizagem e classificação de dados.\n",
        "\n",
        "Nesta atividade pede-se:\n",
        "\n",
        "1.   Faça um levantamento de alguns destes pacotes, identificando:\n",
        "  - Nome e link para o site de download/compra;\n",
        "  - Quais algoritmos para classificação ele oferece;\n",
        "  - É pago? É de código aberto? Tem alguma limitação?\n",
        "\n",
        "2.   Escolha uma destas ferramentas, que ofereça um algoritmo de árvore de decisão (de sua escolha), e aplique-a ao conjunto de dados [WINE](https://goo.gl/nmdfVz), disponível no [UCI Repository of Machine Learning](https://archive.ics.uci.edu/ml/index.html). Este conjunto possui 178 amostras de 03 classes.\n",
        "\n",
        "3.  Para os experimentos: \n",
        "  - Separe 80% das amostras para treinamento e 20% para testes. A escolha das amostras que farão parte dos conjuntos de treinamento e teste deve ser feita aleatoriamente, garantindo que, nos dados de teste, existam amostras de todas as classes.\n",
        "  - Apresente a árvore obtida e os erros de classificação para os conjuntos de treinamento e testes.\n",
        "  - Repita o experimento, fazendo uma nova partição entre amostras de treinamento e testes. Os erros foram idênticos? Comente.\n",
        "\n",
        "4.  Apresente os resultados do levantamento das ferramentas encontradas e dos experimentos realizados na forma de um relatório (formato abaixo). Neste relatório você deve **discutir as diferenças entre o algoritmo implementado na ferramenta utilizada e o visto em aula.**\n",
        "\n",
        "**Formato:**\n",
        "\n",
        "*   Fonte: Times New Roman ou Calibri;\n",
        "*   Tamanho da fonte: 12pt;\n",
        "*   Espaçamento: 1,15;\n",
        "*   Margens: 2cm;\n",
        "*   ATENÇÃO: seja sucinto e completo.\n",
        "\n",
        "**Informações Adicionais:**\n",
        "\n",
        "Entregar o texto em PDF e o **arquivo de dados** no formato da ferramenta escolhida (em um único arquivo .ZIP)."
      ]
    },
    {
      "cell_type": "code",
      "metadata": {
        "id": "mS3ikvB8bKo3"
      },
      "source": [
        ""
      ],
      "execution_count": null,
      "outputs": []
    }
  ]
}