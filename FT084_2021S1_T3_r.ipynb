{
  "nbformat": 4,
  "nbformat_minor": 0,
  "metadata": {
    "colab": {
      "name": "FT084_2021S1_T3.r",
      "provenance": [],
      "collapsed_sections": [],
      "include_colab_link": true
    },
    "kernelspec": {
      "name": "ir",
      "display_name": "R"
    },
    "language_info": {
      "name": "R"
    }
  },
  "cells": [
    {
      "cell_type": "markdown",
      "metadata": {
        "id": "view-in-github",
        "colab_type": "text"
      },
      "source": [
        "<a href=\"https://colab.research.google.com/github/SamuelOliveira/Colab/blob/main/FT084_2021S1_T3_r.ipynb\" target=\"_parent\"><img src=\"https://colab.research.google.com/assets/colab-badge.svg\" alt=\"Open In Colab\"/></a>"
      ]
    },
    {
      "cell_type": "markdown",
      "metadata": {
        "id": "UYT651YC3qn7"
      },
      "source": [
        "https://quantdev.ssri.psu.edu/sites/qdev/files/09_EnsembleMethods_2017_1127.html"
      ]
    },
    {
      "cell_type": "code",
      "metadata": {
        "id": "jDESwuwSXrTy"
      },
      "source": [
        "install.packages('pacman')\n",
        "pacman::p_load(psych,ggplot2,caret)"
      ],
      "execution_count": null,
      "outputs": []
    },
    {
      "cell_type": "code",
      "metadata": {
        "id": "QyDIZDMa3hLR"
      },
      "source": [
        "pacman::p_load(rpart,rpart.plot,RColorBrewer,party,partykit,pROC,ISLR)"
      ],
      "execution_count": null,
      "outputs": []
    },
    {
      "cell_type": "code",
      "metadata": {
        "id": "nItGxMup62_N"
      },
      "source": [
        "pacman::p_load(tree,e1071,randomForest)"
      ],
      "execution_count": null,
      "outputs": []
    },
    {
      "cell_type": "markdown",
      "metadata": {
        "id": "P2rT3hLD5QSm"
      },
      "source": [
        "# 1. Introdução aos dados"
      ]
    },
    {
      "cell_type": "markdown",
      "metadata": {
        "id": "aUU8mHwH38bI"
      },
      "source": [
        "# Prelim - Descriptives\n",
        "Lets have a quick look at the data file and the descriptives."
      ]
    },
    {
      "cell_type": "code",
      "metadata": {
        "id": "m2uitm1A3-N4"
      },
      "source": [
        "#data structure\n",
        "head(Carseats,10)"
      ],
      "execution_count": null,
      "outputs": []
    },
    {
      "cell_type": "markdown",
      "metadata": {
        "id": "C9JCPigw4U1c"
      },
      "source": [
        "Nosso resultado de interesse será uma versão binária de Sales: Vendas de unidades (em milhares) em cada local.\n",
        "\n",
        "(Observe novamente que não há nenhuma idvariável. Isso é conveniente para algumas tarefas.)\n",
        "\n",
        "Descritivos"
      ]
    },
    {
      "cell_type": "code",
      "metadata": {
        "colab": {
          "base_uri": "https://localhost:8080/",
          "height": 438
        },
        "id": "ZB0HN6rV4XkX",
        "outputId": "9ac0ee4b-596d-46e9-ebfe-ec90149c7111"
      },
      "source": [
        "#sample descriptives\n",
        "describe(Carseats)"
      ],
      "execution_count": 3,
      "outputs": [
        {
          "output_type": "display_data",
          "data": {
            "text/plain": [
              "            vars n   mean       sd          median trimmed    mad        min\n",
              "Sales        1   400   7.496325   2.8241150   7.49   7.429406   2.868831  0 \n",
              "CompPrice    2   400 124.975000  15.3345115 125.00 125.040625  14.826000 77 \n",
              "Income       3   400  68.657500  27.9860365  69.00  68.259375  35.582400 21 \n",
              "Advertising  4   400   6.635000   6.6503642   5.00   5.890625   7.413000  0 \n",
              "Population   5   400 264.840000 147.3764362 272.00 265.562500 191.255400 10 \n",
              "Price        6   400 115.795000  23.6766644 117.00 115.921875  22.239000 24 \n",
              "ShelveLoc*   7   400   2.307500   0.8334749   3.00   2.384375   0.000000  1 \n",
              "Age          8   400  53.322500  16.2002968  54.50  53.484375  20.015100 25 \n",
              "Education    9   400  13.900000   2.6205282  14.00  13.875000   2.965200 10 \n",
              "Urban*      10   400   1.705000   0.4566139   2.00   1.756250   0.000000  1 \n",
              "US*         11   400   1.645000   0.4791126   2.00   1.681250   0.000000  1 \n",
              "            max    range  skew        kurtosis    se        \n",
              "Sales        16.27  16.27  0.18417098 -0.10934021 0.14120575\n",
              "CompPrice   175.00  98.00 -0.04243445  0.01107279 0.76672558\n",
              "Income      120.00  99.00  0.04907427 -1.09628725 1.39930183\n",
              "Advertising  29.00  29.00  0.63479687 -0.56550852 0.33251821\n",
              "Population  509.00 499.00 -0.05084308 -1.21128171 7.36882181\n",
              "Price       191.00 167.00 -0.12434811  0.41415856 1.18383322\n",
              "ShelveLoc*    3.00   2.00 -0.62317348 -1.28167551 0.04167375\n",
              "Age          80.00  55.00 -0.07660383 -1.14453644 0.81001484\n",
              "Education    18.00   8.00  0.04367733 -1.30562560 0.13102641\n",
              "Urban*        2.00   1.00 -0.89566921 -1.20075982 0.02283069\n",
              "US*           2.00   1.00 -0.60377249 -1.63953889 0.02395563"
            ],
            "text/latex": "A psych: 11 × 13\n\\begin{tabular}{r|lllllllllllll}\n  & vars & n & mean & sd & median & trimmed & mad & min & max & range & skew & kurtosis & se\\\\\n  & <int> & <dbl> & <dbl> & <dbl> & <dbl> & <dbl> & <dbl> & <dbl> & <dbl> & <dbl> & <dbl> & <dbl> & <dbl>\\\\\n\\hline\n\tSales &  1 & 400 &   7.496325 &   2.8241150 &   7.49 &   7.429406 &   2.868831 &  0 &  16.27 &  16.27 &  0.18417098 & -0.10934021 & 0.14120575\\\\\n\tCompPrice &  2 & 400 & 124.975000 &  15.3345115 & 125.00 & 125.040625 &  14.826000 & 77 & 175.00 &  98.00 & -0.04243445 &  0.01107279 & 0.76672558\\\\\n\tIncome &  3 & 400 &  68.657500 &  27.9860365 &  69.00 &  68.259375 &  35.582400 & 21 & 120.00 &  99.00 &  0.04907427 & -1.09628725 & 1.39930183\\\\\n\tAdvertising &  4 & 400 &   6.635000 &   6.6503642 &   5.00 &   5.890625 &   7.413000 &  0 &  29.00 &  29.00 &  0.63479687 & -0.56550852 & 0.33251821\\\\\n\tPopulation &  5 & 400 & 264.840000 & 147.3764362 & 272.00 & 265.562500 & 191.255400 & 10 & 509.00 & 499.00 & -0.05084308 & -1.21128171 & 7.36882181\\\\\n\tPrice &  6 & 400 & 115.795000 &  23.6766644 & 117.00 & 115.921875 &  22.239000 & 24 & 191.00 & 167.00 & -0.12434811 &  0.41415856 & 1.18383322\\\\\n\tShelveLoc* &  7 & 400 &   2.307500 &   0.8334749 &   3.00 &   2.384375 &   0.000000 &  1 &   3.00 &   2.00 & -0.62317348 & -1.28167551 & 0.04167375\\\\\n\tAge &  8 & 400 &  53.322500 &  16.2002968 &  54.50 &  53.484375 &  20.015100 & 25 &  80.00 &  55.00 & -0.07660383 & -1.14453644 & 0.81001484\\\\\n\tEducation &  9 & 400 &  13.900000 &   2.6205282 &  14.00 &  13.875000 &   2.965200 & 10 &  18.00 &   8.00 &  0.04367733 & -1.30562560 & 0.13102641\\\\\n\tUrban* & 10 & 400 &   1.705000 &   0.4566139 &   2.00 &   1.756250 &   0.000000 &  1 &   2.00 &   1.00 & -0.89566921 & -1.20075982 & 0.02283069\\\\\n\tUS* & 11 & 400 &   1.645000 &   0.4791126 &   2.00 &   1.681250 &   0.000000 &  1 &   2.00 &   1.00 & -0.60377249 & -1.63953889 & 0.02395563\\\\\n\\end{tabular}\n",
            "text/markdown": "\nA psych: 11 × 13\n\n| <!--/--> | vars &lt;int&gt; | n &lt;dbl&gt; | mean &lt;dbl&gt; | sd &lt;dbl&gt; | median &lt;dbl&gt; | trimmed &lt;dbl&gt; | mad &lt;dbl&gt; | min &lt;dbl&gt; | max &lt;dbl&gt; | range &lt;dbl&gt; | skew &lt;dbl&gt; | kurtosis &lt;dbl&gt; | se &lt;dbl&gt; |\n|---|---|---|---|---|---|---|---|---|---|---|---|---|---|\n| Sales |  1 | 400 |   7.496325 |   2.8241150 |   7.49 |   7.429406 |   2.868831 |  0 |  16.27 |  16.27 |  0.18417098 | -0.10934021 | 0.14120575 |\n| CompPrice |  2 | 400 | 124.975000 |  15.3345115 | 125.00 | 125.040625 |  14.826000 | 77 | 175.00 |  98.00 | -0.04243445 |  0.01107279 | 0.76672558 |\n| Income |  3 | 400 |  68.657500 |  27.9860365 |  69.00 |  68.259375 |  35.582400 | 21 | 120.00 |  99.00 |  0.04907427 | -1.09628725 | 1.39930183 |\n| Advertising |  4 | 400 |   6.635000 |   6.6503642 |   5.00 |   5.890625 |   7.413000 |  0 |  29.00 |  29.00 |  0.63479687 | -0.56550852 | 0.33251821 |\n| Population |  5 | 400 | 264.840000 | 147.3764362 | 272.00 | 265.562500 | 191.255400 | 10 | 509.00 | 499.00 | -0.05084308 | -1.21128171 | 7.36882181 |\n| Price |  6 | 400 | 115.795000 |  23.6766644 | 117.00 | 115.921875 |  22.239000 | 24 | 191.00 | 167.00 | -0.12434811 |  0.41415856 | 1.18383322 |\n| ShelveLoc* |  7 | 400 |   2.307500 |   0.8334749 |   3.00 |   2.384375 |   0.000000 |  1 |   3.00 |   2.00 | -0.62317348 | -1.28167551 | 0.04167375 |\n| Age |  8 | 400 |  53.322500 |  16.2002968 |  54.50 |  53.484375 |  20.015100 | 25 |  80.00 |  55.00 | -0.07660383 | -1.14453644 | 0.81001484 |\n| Education |  9 | 400 |  13.900000 |   2.6205282 |  14.00 |  13.875000 |   2.965200 | 10 |  18.00 |   8.00 |  0.04367733 | -1.30562560 | 0.13102641 |\n| Urban* | 10 | 400 |   1.705000 |   0.4566139 |   2.00 |   1.756250 |   0.000000 |  1 |   2.00 |   1.00 | -0.89566921 | -1.20075982 | 0.02283069 |\n| US* | 11 | 400 |   1.645000 |   0.4791126 |   2.00 |   1.681250 |   0.000000 |  1 |   2.00 |   1.00 | -0.60377249 | -1.63953889 | 0.02395563 |\n\n",
            "text/html": [
              "<table class=\"dataframe\">\n",
              "<caption>A psych: 11 × 13</caption>\n",
              "<thead>\n",
              "\t<tr><th></th><th scope=col>vars</th><th scope=col>n</th><th scope=col>mean</th><th scope=col>sd</th><th scope=col>median</th><th scope=col>trimmed</th><th scope=col>mad</th><th scope=col>min</th><th scope=col>max</th><th scope=col>range</th><th scope=col>skew</th><th scope=col>kurtosis</th><th scope=col>se</th></tr>\n",
              "\t<tr><th></th><th scope=col>&lt;int&gt;</th><th scope=col>&lt;dbl&gt;</th><th scope=col>&lt;dbl&gt;</th><th scope=col>&lt;dbl&gt;</th><th scope=col>&lt;dbl&gt;</th><th scope=col>&lt;dbl&gt;</th><th scope=col>&lt;dbl&gt;</th><th scope=col>&lt;dbl&gt;</th><th scope=col>&lt;dbl&gt;</th><th scope=col>&lt;dbl&gt;</th><th scope=col>&lt;dbl&gt;</th><th scope=col>&lt;dbl&gt;</th><th scope=col>&lt;dbl&gt;</th></tr>\n",
              "</thead>\n",
              "<tbody>\n",
              "\t<tr><th scope=row>Sales</th><td> 1</td><td>400</td><td>  7.496325</td><td>  2.8241150</td><td>  7.49</td><td>  7.429406</td><td>  2.868831</td><td> 0</td><td> 16.27</td><td> 16.27</td><td> 0.18417098</td><td>-0.10934021</td><td>0.14120575</td></tr>\n",
              "\t<tr><th scope=row>CompPrice</th><td> 2</td><td>400</td><td>124.975000</td><td> 15.3345115</td><td>125.00</td><td>125.040625</td><td> 14.826000</td><td>77</td><td>175.00</td><td> 98.00</td><td>-0.04243445</td><td> 0.01107279</td><td>0.76672558</td></tr>\n",
              "\t<tr><th scope=row>Income</th><td> 3</td><td>400</td><td> 68.657500</td><td> 27.9860365</td><td> 69.00</td><td> 68.259375</td><td> 35.582400</td><td>21</td><td>120.00</td><td> 99.00</td><td> 0.04907427</td><td>-1.09628725</td><td>1.39930183</td></tr>\n",
              "\t<tr><th scope=row>Advertising</th><td> 4</td><td>400</td><td>  6.635000</td><td>  6.6503642</td><td>  5.00</td><td>  5.890625</td><td>  7.413000</td><td> 0</td><td> 29.00</td><td> 29.00</td><td> 0.63479687</td><td>-0.56550852</td><td>0.33251821</td></tr>\n",
              "\t<tr><th scope=row>Population</th><td> 5</td><td>400</td><td>264.840000</td><td>147.3764362</td><td>272.00</td><td>265.562500</td><td>191.255400</td><td>10</td><td>509.00</td><td>499.00</td><td>-0.05084308</td><td>-1.21128171</td><td>7.36882181</td></tr>\n",
              "\t<tr><th scope=row>Price</th><td> 6</td><td>400</td><td>115.795000</td><td> 23.6766644</td><td>117.00</td><td>115.921875</td><td> 22.239000</td><td>24</td><td>191.00</td><td>167.00</td><td>-0.12434811</td><td> 0.41415856</td><td>1.18383322</td></tr>\n",
              "\t<tr><th scope=row>ShelveLoc*</th><td> 7</td><td>400</td><td>  2.307500</td><td>  0.8334749</td><td>  3.00</td><td>  2.384375</td><td>  0.000000</td><td> 1</td><td>  3.00</td><td>  2.00</td><td>-0.62317348</td><td>-1.28167551</td><td>0.04167375</td></tr>\n",
              "\t<tr><th scope=row>Age</th><td> 8</td><td>400</td><td> 53.322500</td><td> 16.2002968</td><td> 54.50</td><td> 53.484375</td><td> 20.015100</td><td>25</td><td> 80.00</td><td> 55.00</td><td>-0.07660383</td><td>-1.14453644</td><td>0.81001484</td></tr>\n",
              "\t<tr><th scope=row>Education</th><td> 9</td><td>400</td><td> 13.900000</td><td>  2.6205282</td><td> 14.00</td><td> 13.875000</td><td>  2.965200</td><td>10</td><td> 18.00</td><td>  8.00</td><td> 0.04367733</td><td>-1.30562560</td><td>0.13102641</td></tr>\n",
              "\t<tr><th scope=row>Urban*</th><td>10</td><td>400</td><td>  1.705000</td><td>  0.4566139</td><td>  2.00</td><td>  1.756250</td><td>  0.000000</td><td> 1</td><td>  2.00</td><td>  1.00</td><td>-0.89566921</td><td>-1.20075982</td><td>0.02283069</td></tr>\n",
              "\t<tr><th scope=row>US*</th><td>11</td><td>400</td><td>  1.645000</td><td>  0.4791126</td><td>  2.00</td><td>  1.681250</td><td>  0.000000</td><td> 1</td><td>  2.00</td><td>  1.00</td><td>-0.60377249</td><td>-1.63953889</td><td>0.02395563</td></tr>\n",
              "</tbody>\n",
              "</table>\n"
            ]
          },
          "metadata": {
            "tags": []
          }
        }
      ]
    },
    {
      "cell_type": "code",
      "metadata": {
        "colab": {
          "base_uri": "https://localhost:8080/",
          "height": 437
        },
        "id": "Naz043SC4h2S",
        "outputId": "4eeffa95-edaf-487f-92e8-15429442cb26"
      },
      "source": [
        "#histogram of outcome\n",
        "ggplot(data=Carseats, aes(x=Sales)) +\n",
        "  geom_histogram(binwidth=1, boundary=.5, fill=\"white\", color=\"black\") + \n",
        "  geom_vline(xintercept = 8, color=\"red\", size=2) +\n",
        "  labs(x = \"Sales\")"
      ],
      "execution_count": 4,
      "outputs": [
        {
          "output_type": "display_data",
          "data": {
            "image/png": "[encoded data removed]",
            "text/plain": [
              "plot without title"
            ]
          },
          "metadata": {
            "tags": [],
            "image/png": {
              "width": 420,
              "height": 420
            }
          }
        }
      ]
    },
    {
      "cell_type": "markdown",
      "metadata": {
        "id": "WeL5xgxz41ap"
      },
      "source": [
        "Por conveniência da ilustração didática, criamos uma nova variável HighSalesbinária, “Não” se Vendas <= 8 e “Sim” caso contrário."
      ]
    },
    {
      "cell_type": "code",
      "metadata": {
        "id": "IKhfbrQg44te"
      },
      "source": [
        "#creating new binary variable\n",
        "Carseats$HighSales=ifelse(Carseats$Sales<=8,\"No\",\"Yes\")"
      ],
      "execution_count": 5,
      "outputs": []
    },
    {
      "cell_type": "markdown",
      "metadata": {
        "id": "6SPRGtuO5BzQ"
      },
      "source": [
        "Alguma limpeza de dados"
      ]
    },
    {
      "cell_type": "code",
      "metadata": {
        "id": "P0iJOoo35Dr-"
      },
      "source": [
        "#remove old variable\n",
        "Carseats$Sales <- NULL\n",
        "#convert a factor variable into a numeric variable \n",
        "Carseats$ShelveLoc <- as.numeric(Carseats$ShelveLoc)"
      ],
      "execution_count": 6,
      "outputs": []
    },
    {
      "cell_type": "markdown",
      "metadata": {
        "id": "yYGokcc_5Tgr"
      },
      "source": [
        "# 2. Dividir os dados em conjuntos de treinamento e teste"
      ]
    },
    {
      "cell_type": "code",
      "metadata": {
        "id": "PrUww9vc5VgL"
      },
      "source": [
        "#random sample half the rows \n",
        "halfsample = sample(dim(Carseats)[1], dim(Carseats)[1]/2) # half of sample\n",
        "#create training and test data sets\n",
        "Carseats.train = Carseats[halfsample, ]\n",
        "Carseats.test = Carseats[-halfsample, ]"
      ],
      "execution_count": 7,
      "outputs": []
    },
    {
      "cell_type": "markdown",
      "metadata": {
        "id": "_llYrRxU5b4z"
      },
      "source": [
        "Vamos usá-los para avaliar uma variedade de algoritmos de classificação diferentes: Florestas Aleatórias, Florestas,"
      ]
    },
    {
      "cell_type": "markdown",
      "metadata": {
        "id": "kHrqo40a5eHT"
      },
      "source": [
        "### Configurando a validação cruzada k-fold k = 10 dobras de validação cruzada."
      ]
    },
    {
      "cell_type": "markdown",
      "metadata": {
        "id": "C8cow3M35jrh"
      },
      "source": [
        "Primeiro, configuramos o controle de validação cruzada"
      ]
    },
    {
      "cell_type": "code",
      "metadata": {
        "id": "DyChknfB5kfK"
      },
      "source": [
        "#Setting the random seed for replication\n",
        "set.seed(1234)\n",
        "\n",
        "#setting up cross-validation\n",
        "cvcontrol <- trainControl(method=\"repeatedcv\", number = 10,\n",
        "                          allowParallel=TRUE)"
      ],
      "execution_count": 10,
      "outputs": []
    },
    {
      "cell_type": "markdown",
      "metadata": {
        "id": "s76Jtvrg5rLO"
      },
      "source": [
        "# 3. Modelo 0: Uma única árvore de classificação"
      ]
    },
    {
      "cell_type": "markdown",
      "metadata": {
        "id": "_ggIPIqh5tTl"
      },
      "source": [
        "Primeiramente, otimizamos o ajuste de uma árvore de classificação. Nosso objetivo com a validação cruzada é otimizar o tamanho da árvore - ajustando o parâmetro de complexidade."
      ]
    },
    {
      "cell_type": "code",
      "metadata": {
        "colab": {
          "base_uri": "https://localhost:8080/",
          "height": 442
        },
        "id": "7EPZne565t61",
        "outputId": "5b0de9ac-efc9-4c2a-8df2-4471085a0ecb"
      },
      "source": [
        "train.tree <-train(as.factor(HighSales)~., \n",
        "                   data=Carseats.train,\n",
        "                   method=\"ctree\",\n",
        "                   trControl=cvcontrol,\n",
        "                   tuneLength = 10)\n",
        "train.tree"
      ],
      "execution_count": 27,
      "outputs": [
        {
          "output_type": "display_data",
          "data": {
            "text/plain": [
              "Conditional Inference Tree \n",
              "\n",
              "200 samples\n",
              " 10 predictor\n",
              "  2 classes: 'No', 'Yes' \n",
              "\n",
              "No pre-processing\n",
              "Resampling: Cross-Validated (10 fold, repeated 1 times) \n",
              "Summary of sample sizes: 179, 180, 179, 181, 181, 180, ... \n",
              "Resampling results across tuning parameters:\n",
              "\n",
              "  mincriterion  Accuracy   Kappa    \n",
              "  0.0100000     0.6839975  0.3506205\n",
              "  0.1188889     0.6839975  0.3506205\n",
              "  0.2277778     0.6892607  0.3608543\n",
              "  0.3366667     0.6839975  0.3490964\n",
              "  0.4455556     0.6739975  0.3297512\n",
              "  0.5544444     0.6597118  0.3037760\n",
              "  0.6633333     0.6599749  0.3056579\n",
              "  0.7722222     0.6699749  0.3241938\n",
              "  0.8811111     0.5796115  0.1638445\n",
              "  0.9900000     0.5804010  0.1717404\n",
              "\n",
              "Accuracy was used to select the optimal model using the largest value.\n",
              "The final value used for the model was mincriterion = 0.2277778."
            ]
          },
          "metadata": {
            "tags": []
          }
        }
      ]
    },
    {
      "cell_type": "code",
      "metadata": {
        "colab": {
          "base_uri": "https://localhost:8080/",
          "height": 437
        },
        "id": "VJtaZHQ28kya",
        "outputId": "272c7fac-da62-4189-ba3e-ce359d24ff65"
      },
      "source": [
        "plot(train.tree)"
      ],
      "execution_count": 28,
      "outputs": [
        {
          "output_type": "display_data",
          "data": {
            "image/png": "[encoded data removed]",
            "text/plain": [
              "plot without title"
            ]
          },
          "metadata": {
            "tags": [],
            "image/png": {
              "width": 420,
              "height": 420
            }
          }
        }
      ]
    },
    {
      "cell_type": "markdown",
      "metadata": {
        "id": "tFMec8WL8t0P"
      },
      "source": [
        "Vemos como a acumulação é maximizada em uma árvore relativamente menos complexa.\n",
        "\n",
        "Olhe para a árvore final"
      ]
    },
    {
      "cell_type": "code",
      "metadata": {
        "colab": {
          "base_uri": "https://localhost:8080/",
          "height": 437
        },
        "id": "bM5Ee9vP8vyp",
        "outputId": "31acabe0-b327-43eb-97d9-769aa5991876"
      },
      "source": [
        "# plot tree\n",
        "plot(train.tree$finalModel,\n",
        "    main=\"Regression Tree for Carseat High Sales\")"
      ],
      "execution_count": 30,
      "outputs": [
        {
          "output_type": "display_data",
          "data": {
            "image/png": "[encoded data removed]",
            "text/plain": [
              "plot without title"
            ]
          },
          "metadata": {
            "tags": [],
            "image/png": {
              "width": 420,
              "height": 420
            }
          }
        }
      ]
    },
    {
      "cell_type": "markdown",
      "metadata": {
        "id": "MXHe-9PN9SXM"
      },
      "source": [
        "Para avaliar a precisão da árvore, podemos olhar a matriz de confusão para os dados de treinamento."
      ]
    },
    {
      "cell_type": "code",
      "metadata": {
        "colab": {
          "base_uri": "https://localhost:8080/",
          "height": 68
        },
        "id": "_h-Y1eiX9QZi",
        "outputId": "21902ee3-cdad-4cf4-b498-10755486f02c"
      },
      "source": [
        "#obtaining class predictions\n",
        "tree.classTrain <-  predict(train.tree, \n",
        "                          type=\"raw\")\n",
        "head(tree.classTrain)\n",
        "# tree.classTrain"
      ],
      "execution_count": 34,
      "outputs": [
        {
          "output_type": "display_data",
          "data": {
            "text/plain": [
              "[1] Yes No  Yes Yes Yes No \n",
              "Levels: No Yes"
            ],
            "text/latex": "\\begin{enumerate*}\n\\item Yes\n\\item No\n\\item Yes\n\\item Yes\n\\item Yes\n\\item No\n\\end{enumerate*}\n\n\\emph{Levels}: \\begin{enumerate*}\n\\item 'No'\n\\item 'Yes'\n\\end{enumerate*}\n",
            "text/markdown": "1. Yes\n2. No\n3. Yes\n4. Yes\n5. Yes\n6. No\n\n\n\n**Levels**: 1. 'No'\n2. 'Yes'\n\n\n",
            "text/html": [
              "<style>\n",
              ".list-inline {list-style: none; margin:0; padding: 0}\n",
              ".list-inline>li {display: inline-block}\n",
              ".list-inline>li:not(:last-child)::after {content: \"\\00b7\"; padding: 0 .5ex}\n",
              "</style>\n",
              "<ol class=list-inline><li>Yes</li><li>No</li><li>Yes</li><li>Yes</li><li>Yes</li><li>No</li></ol>\n",
              "\n",
              "<details>\n",
              "\t<summary style=display:list-item;cursor:pointer>\n",
              "\t\t<strong>Levels</strong>:\n",
              "\t</summary>\n",
              "\t<style>\n",
              "\t.list-inline {list-style: none; margin:0; padding: 0}\n",
              "\t.list-inline>li {display: inline-block}\n",
              "\t.list-inline>li:not(:last-child)::after {content: \"\\00b7\"; padding: 0 .5ex}\n",
              "\t</style>\n",
              "\t<ol class=list-inline><li>'No'</li><li>'Yes'</li></ol>\n",
              "</details>"
            ]
          },
          "metadata": {
            "tags": []
          }
        }
      ]
    },
    {
      "cell_type": "code",
      "metadata": {
        "colab": {
          "base_uri": "https://localhost:8080/"
        },
        "id": "GkH_zDL3_fXl",
        "outputId": "db68d207-7ffe-49ce-b5a3-f8ce56efc051"
      },
      "source": [
        "# convertendo chr para Factor\n",
        "Carseats.train$HighSales <- as.factor(Carseats.train$HighSales)\n",
        "str(Carseats.train)"
      ],
      "execution_count": 38,
      "outputs": [
        {
          "output_type": "stream",
          "text": [
            "'data.frame':\t200 obs. of  11 variables:\n",
            " $ CompPrice  : num  118 128 122 157 116 122 147 131 122 131 ...\n",
            " $ Income     : num  90 42 69 93 106 102 58 21 88 111 ...\n",
            " $ Advertising: num  10 0 7 0 8 19 7 8 7 13 ...\n",
            " $ Population : num  54 436 303 51 244 469 100 220 36 33 ...\n",
            " $ Price      : num  104 118 105 149 86 123 191 171 159 80 ...\n",
            " $ ShelveLoc  : num  2 3 2 2 3 1 1 2 1 1 ...\n",
            " $ Age        : num  31 80 45 32 58 29 27 29 28 68 ...\n",
            " $ Education  : num  11 11 16 17 12 13 15 14 17 18 ...\n",
            " $ Urban      : Factor w/ 2 levels \"No\",\"Yes\": 1 2 1 2 2 2 2 2 2 2 ...\n",
            " $ US         : Factor w/ 2 levels \"No\",\"Yes\": 2 1 2 1 2 2 2 2 2 2 ...\n",
            " $ HighSales  : Factor w/ 2 levels \"No\",\"Yes\": 2 1 2 2 2 2 1 1 1 2 ...\n"
          ],
          "name": "stdout"
        }
      ]
    },
    {
      "cell_type": "code",
      "metadata": {
        "colab": {
          "base_uri": "https://localhost:8080/",
          "height": 476
        },
        "id": "pHqdfq5w9Z1p",
        "outputId": "b5ad09b7-6fe3-40b1-869a-c89185601c2f"
      },
      "source": [
        "#computing confusion matrix\n",
        "confusionMatrix(Carseats.train$HighSales,tree.classTrain)"
      ],
      "execution_count": 39,
      "outputs": [
        {
          "output_type": "display_data",
          "data": {
            "text/plain": [
              "Confusion Matrix and Statistics\n",
              "\n",
              "          Reference\n",
              "Prediction  No Yes\n",
              "       No  101  13\n",
              "       Yes  24  62\n",
              "                                          \n",
              "               Accuracy : 0.815           \n",
              "                 95% CI : (0.7541, 0.8663)\n",
              "    No Information Rate : 0.625           \n",
              "    P-Value [Acc > NIR] : 4.205e-09       \n",
              "                                          \n",
              "                  Kappa : 0.6166          \n",
              "                                          \n",
              " Mcnemar's Test P-Value : 0.1002          \n",
              "                                          \n",
              "            Sensitivity : 0.8080          \n",
              "            Specificity : 0.8267          \n",
              "         Pos Pred Value : 0.8860          \n",
              "         Neg Pred Value : 0.7209          \n",
              "             Prevalence : 0.6250          \n",
              "         Detection Rate : 0.5050          \n",
              "   Detection Prevalence : 0.5700          \n",
              "      Balanced Accuracy : 0.8173          \n",
              "                                          \n",
              "       'Positive' Class : No              \n",
              "                                          "
            ]
          },
          "metadata": {
            "tags": []
          }
        }
      ]
    },
    {
      "cell_type": "markdown",
      "metadata": {
        "id": "3szSVRuKAaTX"
      },
      "source": [
        "Alguns erros. Mas o modelo foi aprendido.\n",
        "\n",
        "Mais interessante é a matriz de confusão quando aplicada aos dados de teste."
      ]
    },
    {
      "cell_type": "code",
      "metadata": {
        "colab": {
          "base_uri": "https://localhost:8080/",
          "height": 51
        },
        "id": "FVpLeq-ZAc19",
        "outputId": "aafba069-832f-40a9-8b22-6e9472d0b3c6"
      },
      "source": [
        "#obtaining class predictions\n",
        "tree.classTest <-  predict(train.tree, \n",
        "                         newdata = Carseats.test,\n",
        "                          type=\"raw\")\n",
        "head(tree.classTest)"
      ],
      "execution_count": 40,
      "outputs": [
        {
          "output_type": "display_data",
          "data": {
            "text/plain": [
              "[1] No  No  Yes No  No  Yes\n",
              "Levels: No Yes"
            ],
            "text/latex": "\\begin{enumerate*}\n\\item No\n\\item No\n\\item Yes\n\\item No\n\\item No\n\\item Yes\n\\end{enumerate*}\n\n\\emph{Levels}: \\begin{enumerate*}\n\\item 'No'\n\\item 'Yes'\n\\end{enumerate*}\n",
            "text/markdown": "1. No\n2. No\n3. Yes\n4. No\n5. No\n6. Yes\n\n\n\n**Levels**: 1. 'No'\n2. 'Yes'\n\n\n",
            "text/html": [
              "<style>\n",
              ".list-inline {list-style: none; margin:0; padding: 0}\n",
              ".list-inline>li {display: inline-block}\n",
              ".list-inline>li:not(:last-child)::after {content: \"\\00b7\"; padding: 0 .5ex}\n",
              "</style>\n",
              "<ol class=list-inline><li>No</li><li>No</li><li>Yes</li><li>No</li><li>No</li><li>Yes</li></ol>\n",
              "\n",
              "<details>\n",
              "\t<summary style=display:list-item;cursor:pointer>\n",
              "\t\t<strong>Levels</strong>:\n",
              "\t</summary>\n",
              "\t<style>\n",
              "\t.list-inline {list-style: none; margin:0; padding: 0}\n",
              "\t.list-inline>li {display: inline-block}\n",
              "\t.list-inline>li:not(:last-child)::after {content: \"\\00b7\"; padding: 0 .5ex}\n",
              "\t</style>\n",
              "\t<ol class=list-inline><li>'No'</li><li>'Yes'</li></ol>\n",
              "</details>"
            ]
          },
          "metadata": {
            "tags": []
          }
        }
      ]
    },
    {
      "cell_type": "code",
      "metadata": {
        "colab": {
          "base_uri": "https://localhost:8080/"
        },
        "id": "yRTpO9v6AlTI",
        "outputId": "576d1572-d246-41bb-f0c8-728c23db2185"
      },
      "source": [
        "# convertendo chr para Factor\n",
        "Carseats.test$HighSales <- as.factor(Carseats.test$HighSales)\n",
        "str(Carseats.test)"
      ],
      "execution_count": 42,
      "outputs": [
        {
          "output_type": "stream",
          "text": [
            "'data.frame':\t200 obs. of  11 variables:\n",
            " $ CompPrice  : num  138 111 113 124 115 136 132 132 122 115 ...\n",
            " $ Income     : num  73 48 35 113 105 81 110 113 35 28 ...\n",
            " $ Advertising: num  11 16 10 13 0 15 0 0 2 11 ...\n",
            " $ Population : num  276 260 269 501 45 425 108 131 393 29 ...\n",
            " $ Price      : num  120 83 80 72 108 120 124 124 136 86 ...\n",
            " $ ShelveLoc  : num  1 2 3 1 3 2 3 3 3 2 ...\n",
            " $ Age        : num  42 65 59 78 71 67 76 76 62 53 ...\n",
            " $ Education  : num  17 10 12 16 15 10 10 17 18 18 ...\n",
            " $ Urban      : Factor w/ 2 levels \"No\",\"Yes\": 2 2 2 1 2 2 1 1 2 2 ...\n",
            " $ US         : Factor w/ 2 levels \"No\",\"Yes\": 2 2 2 2 1 2 1 2 1 2 ...\n",
            " $ HighSales  : Factor w/ 2 levels \"No\",\"Yes\": 2 2 2 2 1 2 1 1 1 2 ...\n"
          ],
          "name": "stdout"
        }
      ]
    },
    {
      "cell_type": "code",
      "metadata": {
        "colab": {
          "base_uri": "https://localhost:8080/",
          "height": 476
        },
        "id": "k6YerzlEAfS_",
        "outputId": "ce79b619-738a-4fa9-a17d-f83057707459"
      },
      "source": [
        "#computing confusion matrix\n",
        "confusionMatrix(Carseats.test$HighSales,tree.classTest)"
      ],
      "execution_count": 43,
      "outputs": [
        {
          "output_type": "display_data",
          "data": {
            "text/plain": [
              "Confusion Matrix and Statistics\n",
              "\n",
              "          Reference\n",
              "Prediction No Yes\n",
              "       No  83  39\n",
              "       Yes 26  52\n",
              "                                          \n",
              "               Accuracy : 0.675           \n",
              "                 95% CI : (0.6053, 0.7394)\n",
              "    No Information Rate : 0.545           \n",
              "    P-Value [Acc > NIR] : 0.0001227       \n",
              "                                          \n",
              "                  Kappa : 0.3369          \n",
              "                                          \n",
              " Mcnemar's Test P-Value : 0.1366410       \n",
              "                                          \n",
              "            Sensitivity : 0.7615          \n",
              "            Specificity : 0.5714          \n",
              "         Pos Pred Value : 0.6803          \n",
              "         Neg Pred Value : 0.6667          \n",
              "             Prevalence : 0.5450          \n",
              "         Detection Rate : 0.4150          \n",
              "   Detection Prevalence : 0.6100          \n",
              "      Balanced Accuracy : 0.6664          \n",
              "                                          \n",
              "       'Positive' Class : No              \n",
              "                                          "
            ]
          },
          "metadata": {
            "tags": []
          }
        }
      ]
    },
    {
      "cell_type": "markdown",
      "metadata": {
        "id": "aRlzsb9-A0n3"
      },
      "source": [
        "Precisão de 0,67\n",
        "\n",
        "Ao avaliar modelos de classificação, algumas outras funções podem ser úteis. Por exemplo, o pROCpacote oferece conveniência para calcular matrizes de confusão, as medidas associadas de sensibilidade e especificidade e para obter e traçar curvas ROC. Também podemos olhar para a curva ROC extraindo probabilites de “Sim”."
      ]
    },
    {
      "cell_type": "code",
      "metadata": {
        "colab": {
          "base_uri": "https://localhost:8080/",
          "height": 283
        },
        "id": "SMLnsiaDA8ZQ",
        "outputId": "943063c2-9e76-4ef2-8067-86273df30053"
      },
      "source": [
        "#Obtaining predicted probabilites for Test data\n",
        "tree.probs=predict(train.tree,\n",
        "                 newdata=Carseats.test,\n",
        "                 type=\"prob\")\n",
        "head(tree.probs)"
      ],
      "execution_count": 44,
      "outputs": [
        {
          "output_type": "display_data",
          "data": {
            "text/plain": [
              "  No         Yes      \n",
              "1 0.88888889 0.1111111\n",
              "2 0.50000000 0.5000000\n",
              "3 0.08823529 0.9117647\n",
              "4 0.72222222 0.2777778\n",
              "5 1.00000000 0.0000000\n",
              "6 0.00000000 1.0000000"
            ],
            "text/latex": "A data.frame: 6 × 2\n\\begin{tabular}{r|ll}\n  & No & Yes\\\\\n  & <dbl> & <dbl>\\\\\n\\hline\n\t1 & 0.88888889 & 0.1111111\\\\\n\t2 & 0.50000000 & 0.5000000\\\\\n\t3 & 0.08823529 & 0.9117647\\\\\n\t4 & 0.72222222 & 0.2777778\\\\\n\t5 & 1.00000000 & 0.0000000\\\\\n\t6 & 0.00000000 & 1.0000000\\\\\n\\end{tabular}\n",
            "text/markdown": "\nA data.frame: 6 × 2\n\n| <!--/--> | No &lt;dbl&gt; | Yes &lt;dbl&gt; |\n|---|---|---|\n| 1 | 0.88888889 | 0.1111111 |\n| 2 | 0.50000000 | 0.5000000 |\n| 3 | 0.08823529 | 0.9117647 |\n| 4 | 0.72222222 | 0.2777778 |\n| 5 | 1.00000000 | 0.0000000 |\n| 6 | 0.00000000 | 1.0000000 |\n\n",
            "text/html": [
              "<table class=\"dataframe\">\n",
              "<caption>A data.frame: 6 × 2</caption>\n",
              "<thead>\n",
              "\t<tr><th></th><th scope=col>No</th><th scope=col>Yes</th></tr>\n",
              "\t<tr><th></th><th scope=col>&lt;dbl&gt;</th><th scope=col>&lt;dbl&gt;</th></tr>\n",
              "</thead>\n",
              "<tbody>\n",
              "\t<tr><th scope=row>1</th><td>0.88888889</td><td>0.1111111</td></tr>\n",
              "\t<tr><th scope=row>2</th><td>0.50000000</td><td>0.5000000</td></tr>\n",
              "\t<tr><th scope=row>3</th><td>0.08823529</td><td>0.9117647</td></tr>\n",
              "\t<tr><th scope=row>4</th><td>0.72222222</td><td>0.2777778</td></tr>\n",
              "\t<tr><th scope=row>5</th><td>1.00000000</td><td>0.0000000</td></tr>\n",
              "\t<tr><th scope=row>6</th><td>0.00000000</td><td>1.0000000</td></tr>\n",
              "</tbody>\n",
              "</table>\n"
            ]
          },
          "metadata": {
            "tags": []
          }
        }
      ]
    },
    {
      "cell_type": "code",
      "metadata": {
        "colab": {
          "base_uri": "https://localhost:8080/",
          "height": 505
        },
        "id": "wzBLmVEDBAgy",
        "outputId": "d7cc9363-cc05-456b-e230-8f7c91365f59"
      },
      "source": [
        "#Calculate ROC curve\n",
        "rocCurve.tree <- roc(Carseats.test$HighSales,tree.probs[,\"Yes\"])\n",
        "#plot the ROC curve\n",
        "plot(rocCurve.tree,col=c(4))"
      ],
      "execution_count": 45,
      "outputs": [
        {
          "output_type": "stream",
          "text": [
            "Setting levels: control = No, case = Yes\n",
            "\n",
            "Setting direction: controls < cases\n",
            "\n"
          ],
          "name": "stderr"
        },
        {
          "output_type": "display_data",
          "data": {
            "image/png": "[encoded data removed]",
            "text/plain": [
              "plot without title"
            ]
          },
          "metadata": {
            "tags": [],
            "image/png": {
              "width": 420,
              "height": 420
            }
          }
        }
      ]
    },
    {
      "cell_type": "code",
      "metadata": {
        "colab": {
          "base_uri": "https://localhost:8080/",
          "height": 34
        },
        "id": "DEASCpXLBGKH",
        "outputId": "ea420b02-03f8-4faa-a1c9-711fbc179607"
      },
      "source": [
        "#calculate the area under curve (bigger is better)\n",
        "auc(rocCurve.tree)"
      ],
      "execution_count": 46,
      "outputs": [
        {
          "output_type": "display_data",
          "data": {
            "text/plain": [
              "Area under the curve: 0.7341"
            ],
            "text/latex": "0.734079445145019",
            "text/markdown": "0.734079445145019",
            "text/html": [
              "0.734079445145019"
            ]
          },
          "metadata": {
            "tags": []
          }
        }
      ]
    },
    {
      "cell_type": "markdown",
      "metadata": {
        "id": "rDWiWClJBMZX"
      },
      "source": [
        "# 4. Model 1: *Bagging* of ctrees\n",
        "\n",
        "Training the model using treebag\n",
        "\n",
        "We first optimize fit of a classification tree. Our objective with the cross-validation is to optmize the size of the tree - tuning the complexity parameter."
      ]
    },
    {
      "cell_type": "code",
      "metadata": {
        "colab": {
          "base_uri": "https://localhost:8080/",
          "height": 238
        },
        "id": "8aAGAhJCBVoL",
        "outputId": "fe4d9de7-2aa3-4647-e78e-ddbda5f26b29"
      },
      "source": [
        "#Fix data file for use in bag() function\n",
        "# Carseats2 <- Carseats.train\n",
        "# Carseats2$Urban <- as.factor(Carseats2$Urban)\n",
        "# Carseats2$US <- as.factor(Carseats2$US)\n",
        "# Carseats2$HighSales <- as.factor(Carseats2$HighSales)\n",
        "# \n",
        "# train.bagg <- bag(Carseats2[,-11],Carseats2[,11], B = 10\n",
        "#                    ,\n",
        "#                    bagControl = bagControl(fit = ctreeBag$fit,\n",
        "#                                         predict = ctreeBag$pred,\n",
        "#                                         aggregate = ctreeBag$aggregate))\n",
        "\n",
        "\n",
        "#Using treebag \n",
        "train.bagg <- train(as.factor(HighSales) ~ ., \n",
        "                   data=Carseats.train,\n",
        "                   method=\"treebag\",\n",
        "                   trControl=cvcontrol,\n",
        "                   importance=TRUE)\n",
        "\n",
        "train.bagg"
      ],
      "execution_count": 47,
      "outputs": [
        {
          "output_type": "display_data",
          "data": {
            "text/plain": [
              "Bagged CART \n",
              "\n",
              "200 samples\n",
              " 10 predictor\n",
              "  2 classes: 'No', 'Yes' \n",
              "\n",
              "No pre-processing\n",
              "Resampling: Cross-Validated (10 fold, repeated 1 times) \n",
              "Summary of sample sizes: 180, 180, 181, 180, 180, 180, ... \n",
              "Resampling results:\n",
              "\n",
              "  Accuracy   Kappa    \n",
              "  0.8038972  0.5978241\n"
            ]
          },
          "metadata": {
            "tags": []
          }
        }
      ]
    },
    {
      "cell_type": "code",
      "metadata": {
        "colab": {
          "base_uri": "https://localhost:8080/",
          "height": 437
        },
        "id": "VxYcg0uxBZUP",
        "outputId": "eb7ba5d8-1cb6-4bc8-989b-b39dcfff832c"
      },
      "source": [
        "plot(varImp(train.bagg))"
      ],
      "execution_count": 48,
      "outputs": [
        {
          "output_type": "display_data",
          "data": {
            "image/png": "[encoded data removed]",
            "text/plain": [
              "plot without title"
            ]
          },
          "metadata": {
            "tags": [],
            "image/png": {
              "width": 420,
              "height": 420
            }
          }
        }
      ]
    },
    {
      "cell_type": "markdown",
      "metadata": {
        "id": "3c97beQyBudw"
      },
      "source": [
        "Not yet sure how to parse mode details from the output in order to look at the collection of trees.\n",
        "\n",
        "Look at the collection of final trees\n",
        "\n",
        "To evalaute the accuracy of the Bagged Trees we can look at the confusion matrix for the Training data."
      ]
    },
    {
      "cell_type": "code",
      "metadata": {
        "colab": {
          "base_uri": "https://localhost:8080/",
          "height": 51
        },
        "id": "1jflcj6GBwYL",
        "outputId": "6416373e-5c09-46a1-d24f-70b8ef3e6822"
      },
      "source": [
        "#obtaining class predictions\n",
        "bagg.classTrain <-  predict(train.bagg, \n",
        "                          type=\"raw\")\n",
        "head(bagg.classTrain)"
      ],
      "execution_count": 49,
      "outputs": [
        {
          "output_type": "display_data",
          "data": {
            "text/plain": [
              "[1] Yes No  Yes Yes Yes Yes\n",
              "Levels: No Yes"
            ],
            "text/latex": "\\begin{enumerate*}\n\\item Yes\n\\item No\n\\item Yes\n\\item Yes\n\\item Yes\n\\item Yes\n\\end{enumerate*}\n\n\\emph{Levels}: \\begin{enumerate*}\n\\item 'No'\n\\item 'Yes'\n\\end{enumerate*}\n",
            "text/markdown": "1. Yes\n2. No\n3. Yes\n4. Yes\n5. Yes\n6. Yes\n\n\n\n**Levels**: 1. 'No'\n2. 'Yes'\n\n\n",
            "text/html": [
              "<style>\n",
              ".list-inline {list-style: none; margin:0; padding: 0}\n",
              ".list-inline>li {display: inline-block}\n",
              ".list-inline>li:not(:last-child)::after {content: \"\\00b7\"; padding: 0 .5ex}\n",
              "</style>\n",
              "<ol class=list-inline><li>Yes</li><li>No</li><li>Yes</li><li>Yes</li><li>Yes</li><li>Yes</li></ol>\n",
              "\n",
              "<details>\n",
              "\t<summary style=display:list-item;cursor:pointer>\n",
              "\t\t<strong>Levels</strong>:\n",
              "\t</summary>\n",
              "\t<style>\n",
              "\t.list-inline {list-style: none; margin:0; padding: 0}\n",
              "\t.list-inline>li {display: inline-block}\n",
              "\t.list-inline>li:not(:last-child)::after {content: \"\\00b7\"; padding: 0 .5ex}\n",
              "\t</style>\n",
              "\t<ol class=list-inline><li>'No'</li><li>'Yes'</li></ol>\n",
              "</details>"
            ]
          },
          "metadata": {
            "tags": []
          }
        }
      ]
    },
    {
      "cell_type": "code",
      "metadata": {
        "colab": {
          "base_uri": "https://localhost:8080/",
          "height": 476
        },
        "id": "XEoY16C2Bzgt",
        "outputId": "9b9898f4-fca0-4826-ed81-92f021721b78"
      },
      "source": [
        "#computing confusion matrix\n",
        "confusionMatrix(Carseats.train$HighSales,bagg.classTrain)"
      ],
      "execution_count": 50,
      "outputs": [
        {
          "output_type": "display_data",
          "data": {
            "text/plain": [
              "Confusion Matrix and Statistics\n",
              "\n",
              "          Reference\n",
              "Prediction  No Yes\n",
              "       No  114   0\n",
              "       Yes   0  86\n",
              "                                     \n",
              "               Accuracy : 1          \n",
              "                 95% CI : (0.9817, 1)\n",
              "    No Information Rate : 0.57       \n",
              "    P-Value [Acc > NIR] : < 2.2e-16  \n",
              "                                     \n",
              "                  Kappa : 1          \n",
              "                                     \n",
              " Mcnemar's Test P-Value : NA         \n",
              "                                     \n",
              "            Sensitivity : 1.00       \n",
              "            Specificity : 1.00       \n",
              "         Pos Pred Value : 1.00       \n",
              "         Neg Pred Value : 1.00       \n",
              "             Prevalence : 0.57       \n",
              "         Detection Rate : 0.57       \n",
              "   Detection Prevalence : 0.57       \n",
              "      Balanced Accuracy : 1.00       \n",
              "                                     \n",
              "       'Positive' Class : No         \n",
              "                                     "
            ]
          },
          "metadata": {
            "tags": []
          }
        }
      ]
    },
    {
      "cell_type": "markdown",
      "metadata": {
        "id": "Zi067jlqCDGp"
      },
      "source": [
        "A precisão é perfeita!\n",
        "\n",
        "Mais interessante é a matriz de confusão quando aplicada aos dados de teste."
      ]
    },
    {
      "cell_type": "code",
      "metadata": {
        "colab": {
          "base_uri": "https://localhost:8080/",
          "height": 51
        },
        "id": "L1JABuE6CGz5",
        "outputId": "d30134b4-c2e9-46bb-fec1-a9d44a602674"
      },
      "source": [
        "#obtaining class predictions\n",
        "bagg.classTest <-  predict(train.bagg, \n",
        "                         newdata = Carseats.test,\n",
        "                          type=\"raw\")\n",
        "head(bagg.classTest)"
      ],
      "execution_count": 51,
      "outputs": [
        {
          "output_type": "display_data",
          "data": {
            "text/plain": [
              "[1] No  Yes Yes Yes No  Yes\n",
              "Levels: No Yes"
            ],
            "text/latex": "\\begin{enumerate*}\n\\item No\n\\item Yes\n\\item Yes\n\\item Yes\n\\item No\n\\item Yes\n\\end{enumerate*}\n\n\\emph{Levels}: \\begin{enumerate*}\n\\item 'No'\n\\item 'Yes'\n\\end{enumerate*}\n",
            "text/markdown": "1. No\n2. Yes\n3. Yes\n4. Yes\n5. No\n6. Yes\n\n\n\n**Levels**: 1. 'No'\n2. 'Yes'\n\n\n",
            "text/html": [
              "<style>\n",
              ".list-inline {list-style: none; margin:0; padding: 0}\n",
              ".list-inline>li {display: inline-block}\n",
              ".list-inline>li:not(:last-child)::after {content: \"\\00b7\"; padding: 0 .5ex}\n",
              "</style>\n",
              "<ol class=list-inline><li>No</li><li>Yes</li><li>Yes</li><li>Yes</li><li>No</li><li>Yes</li></ol>\n",
              "\n",
              "<details>\n",
              "\t<summary style=display:list-item;cursor:pointer>\n",
              "\t\t<strong>Levels</strong>:\n",
              "\t</summary>\n",
              "\t<style>\n",
              "\t.list-inline {list-style: none; margin:0; padding: 0}\n",
              "\t.list-inline>li {display: inline-block}\n",
              "\t.list-inline>li:not(:last-child)::after {content: \"\\00b7\"; padding: 0 .5ex}\n",
              "\t</style>\n",
              "\t<ol class=list-inline><li>'No'</li><li>'Yes'</li></ol>\n",
              "</details>"
            ]
          },
          "metadata": {
            "tags": []
          }
        }
      ]
    },
    {
      "cell_type": "code",
      "metadata": {
        "colab": {
          "base_uri": "https://localhost:8080/",
          "height": 476
        },
        "id": "Jwjcq-bsCJwH",
        "outputId": "745a3bdd-1238-42bc-a68f-09a0a6dde4d1"
      },
      "source": [
        "#computing confusion matrix\n",
        "confusionMatrix(Carseats.test$HighSales,bagg.classTest)"
      ],
      "execution_count": 52,
      "outputs": [
        {
          "output_type": "display_data",
          "data": {
            "text/plain": [
              "Confusion Matrix and Statistics\n",
              "\n",
              "          Reference\n",
              "Prediction  No Yes\n",
              "       No  100  22\n",
              "       Yes  16  62\n",
              "                                          \n",
              "               Accuracy : 0.81            \n",
              "                 95% CI : (0.7487, 0.8619)\n",
              "    No Information Rate : 0.58            \n",
              "    P-Value [Acc > NIR] : 4.103e-12       \n",
              "                                          \n",
              "                  Kappa : 0.6061          \n",
              "                                          \n",
              " Mcnemar's Test P-Value : 0.4173          \n",
              "                                          \n",
              "            Sensitivity : 0.8621          \n",
              "            Specificity : 0.7381          \n",
              "         Pos Pred Value : 0.8197          \n",
              "         Neg Pred Value : 0.7949          \n",
              "             Prevalence : 0.5800          \n",
              "         Detection Rate : 0.5000          \n",
              "   Detection Prevalence : 0.6100          \n",
              "      Balanced Accuracy : 0.8001          \n",
              "                                          \n",
              "       'Positive' Class : No              \n",
              "                                          "
            ]
          },
          "metadata": {
            "tags": []
          }
        }
      ]
    },
    {
      "cell_type": "markdown",
      "metadata": {
        "id": "DKl6sQwoCNO_"
      },
      "source": [
        "Precisão de 0,81\n",
        "\n",
        "Também podemos olhar para a curva ROC extraindo probabilites de “Sim”."
      ]
    },
    {
      "cell_type": "code",
      "metadata": {
        "colab": {
          "base_uri": "https://localhost:8080/",
          "height": 283
        },
        "id": "SsqUpGbYCP9H",
        "outputId": "79f07579-8f2d-4206-a34e-c4b32d95ba98"
      },
      "source": [
        "#Obtaining predicted probabilites for Test data\n",
        "bagg.probs=predict(train.bagg,\n",
        "                 newdata=Carseats.test,\n",
        "                 type=\"prob\")\n",
        "head(bagg.probs)"
      ],
      "execution_count": 53,
      "outputs": [
        {
          "output_type": "display_data",
          "data": {
            "text/plain": [
              "  No   Yes \n",
              "1 0.84 0.16\n",
              "2 0.08 0.92\n",
              "3 0.08 0.92\n",
              "4 0.48 0.52\n",
              "5 0.88 0.12\n",
              "6 0.12 0.88"
            ],
            "text/latex": "A data.frame: 6 × 2\n\\begin{tabular}{r|ll}\n  & No & Yes\\\\\n  & <dbl> & <dbl>\\\\\n\\hline\n\t1 & 0.84 & 0.16\\\\\n\t2 & 0.08 & 0.92\\\\\n\t3 & 0.08 & 0.92\\\\\n\t4 & 0.48 & 0.52\\\\\n\t5 & 0.88 & 0.12\\\\\n\t6 & 0.12 & 0.88\\\\\n\\end{tabular}\n",
            "text/markdown": "\nA data.frame: 6 × 2\n\n| <!--/--> | No &lt;dbl&gt; | Yes &lt;dbl&gt; |\n|---|---|---|\n| 1 | 0.84 | 0.16 |\n| 2 | 0.08 | 0.92 |\n| 3 | 0.08 | 0.92 |\n| 4 | 0.48 | 0.52 |\n| 5 | 0.88 | 0.12 |\n| 6 | 0.12 | 0.88 |\n\n",
            "text/html": [
              "<table class=\"dataframe\">\n",
              "<caption>A data.frame: 6 × 2</caption>\n",
              "<thead>\n",
              "\t<tr><th></th><th scope=col>No</th><th scope=col>Yes</th></tr>\n",
              "\t<tr><th></th><th scope=col>&lt;dbl&gt;</th><th scope=col>&lt;dbl&gt;</th></tr>\n",
              "</thead>\n",
              "<tbody>\n",
              "\t<tr><th scope=row>1</th><td>0.84</td><td>0.16</td></tr>\n",
              "\t<tr><th scope=row>2</th><td>0.08</td><td>0.92</td></tr>\n",
              "\t<tr><th scope=row>3</th><td>0.08</td><td>0.92</td></tr>\n",
              "\t<tr><th scope=row>4</th><td>0.48</td><td>0.52</td></tr>\n",
              "\t<tr><th scope=row>5</th><td>0.88</td><td>0.12</td></tr>\n",
              "\t<tr><th scope=row>6</th><td>0.12</td><td>0.88</td></tr>\n",
              "</tbody>\n",
              "</table>\n"
            ]
          },
          "metadata": {
            "tags": []
          }
        }
      ]
    },
    {
      "cell_type": "code",
      "metadata": {
        "colab": {
          "base_uri": "https://localhost:8080/",
          "height": 505
        },
        "id": "Fj1s8wHACS5O",
        "outputId": "5980dc48-68f0-4f4e-ab4b-86146816d751"
      },
      "source": [
        "#Calculate ROC curve\n",
        "rocCurve.bagg <- roc(Carseats.test$HighSales,bagg.probs[,\"Yes\"])\n",
        "#plot the ROC curve\n",
        "plot(rocCurve.bagg,col=c(6))"
      ],
      "execution_count": 54,
      "outputs": [
        {
          "output_type": "stream",
          "text": [
            "Setting levels: control = No, case = Yes\n",
            "\n",
            "Setting direction: controls < cases\n",
            "\n"
          ],
          "name": "stderr"
        },
        {
          "output_type": "display_data",
          "data": {
            "image/png": "[encoded data removed]",
            "text/plain": [
              "plot without title"
            ]
          },
          "metadata": {
            "tags": [],
            "image/png": {
              "width": 420,
              "height": 420
            }
          }
        }
      ]
    },
    {
      "cell_type": "code",
      "metadata": {
        "colab": {
          "base_uri": "https://localhost:8080/",
          "height": 34
        },
        "id": "JwmW7Zt6CWIT",
        "outputId": "c4765f35-2cd3-46e1-ef75-45302e12d495"
      },
      "source": [
        "#calculate the area under curve (bigger is better)\n",
        "auc(rocCurve.bagg)"
      ],
      "execution_count": 55,
      "outputs": [
        {
          "output_type": "display_data",
          "data": {
            "text/plain": [
              "Area under the curve: 0.894"
            ],
            "text/latex": "0.893968053804119",
            "text/markdown": "0.893968053804119",
            "text/html": [
              "0.893968053804119"
            ]
          },
          "metadata": {
            "tags": []
          }
        }
      ]
    },
    {
      "cell_type": "markdown",
      "metadata": {
        "id": "WFYQ9t8ACaKU"
      },
      "source": [
        "# 5. Modelo 2: *Random Forest* para árvores de classificação\n",
        "\n",
        "Treinar o modelo usando floresta aleatória\n"
      ]
    },
    {
      "cell_type": "code",
      "metadata": {
        "colab": {
          "base_uri": "https://localhost:8080/",
          "height": 323
        },
        "id": "8qvbgLwaCsIP",
        "outputId": "bf3de2be-fb4c-46f8-88fa-5cd9ec75ef33"
      },
      "source": [
        "train.rf <- train(as.factor(HighSales) ~ ., \n",
        "                  data=Carseats.train,\n",
        "                  method=\"rf\",\n",
        "                  trControl=cvcontrol,\n",
        "                  #tuneLength = 3,\n",
        "                  importance=TRUE)\n",
        "train.rf"
      ],
      "execution_count": 58,
      "outputs": [
        {
          "output_type": "display_data",
          "data": {
            "text/plain": [
              "Random Forest \n",
              "\n",
              "200 samples\n",
              " 10 predictor\n",
              "  2 classes: 'No', 'Yes' \n",
              "\n",
              "No pre-processing\n",
              "Resampling: Cross-Validated (10 fold, repeated 1 times) \n",
              "Summary of sample sizes: 181, 180, 180, 179, 179, 180, ... \n",
              "Resampling results across tuning parameters:\n",
              "\n",
              "  mtry  Accuracy   Kappa    \n",
              "   2    0.7909649  0.5648520\n",
              "   6    0.8194612  0.6253877\n",
              "  10    0.8447494  0.6791567\n",
              "\n",
              "Accuracy was used to select the optimal model using the largest value.\n",
              "The final value used for the model was mtry = 10."
            ]
          },
          "metadata": {
            "tags": []
          }
        }
      ]
    },
    {
      "cell_type": "markdown",
      "metadata": {
        "id": "4ESnu0OQC8qD"
      },
      "source": [
        "Podemos olhar a matriz de confusão para os dados de treinamento."
      ]
    },
    {
      "cell_type": "code",
      "metadata": {
        "colab": {
          "base_uri": "https://localhost:8080/",
          "height": 51
        },
        "id": "gYD5YNieC7HN",
        "outputId": "fe55c904-28f2-4694-a700-75dc9acd2e4f"
      },
      "source": [
        "#obtaining class predictions\n",
        "rf.classTrain <-  predict(train.rf, \n",
        "                          type=\"raw\")\n",
        "head(rf.classTrain)"
      ],
      "execution_count": 59,
      "outputs": [
        {
          "output_type": "display_data",
          "data": {
            "text/plain": [
              "[1] Yes No  Yes Yes Yes Yes\n",
              "Levels: No Yes"
            ],
            "text/latex": "\\begin{enumerate*}\n\\item Yes\n\\item No\n\\item Yes\n\\item Yes\n\\item Yes\n\\item Yes\n\\end{enumerate*}\n\n\\emph{Levels}: \\begin{enumerate*}\n\\item 'No'\n\\item 'Yes'\n\\end{enumerate*}\n",
            "text/markdown": "1. Yes\n2. No\n3. Yes\n4. Yes\n5. Yes\n6. Yes\n\n\n\n**Levels**: 1. 'No'\n2. 'Yes'\n\n\n",
            "text/html": [
              "<style>\n",
              ".list-inline {list-style: none; margin:0; padding: 0}\n",
              ".list-inline>li {display: inline-block}\n",
              ".list-inline>li:not(:last-child)::after {content: \"\\00b7\"; padding: 0 .5ex}\n",
              "</style>\n",
              "<ol class=list-inline><li>Yes</li><li>No</li><li>Yes</li><li>Yes</li><li>Yes</li><li>Yes</li></ol>\n",
              "\n",
              "<details>\n",
              "\t<summary style=display:list-item;cursor:pointer>\n",
              "\t\t<strong>Levels</strong>:\n",
              "\t</summary>\n",
              "\t<style>\n",
              "\t.list-inline {list-style: none; margin:0; padding: 0}\n",
              "\t.list-inline>li {display: inline-block}\n",
              "\t.list-inline>li:not(:last-child)::after {content: \"\\00b7\"; padding: 0 .5ex}\n",
              "\t</style>\n",
              "\t<ol class=list-inline><li>'No'</li><li>'Yes'</li></ol>\n",
              "</details>"
            ]
          },
          "metadata": {
            "tags": []
          }
        }
      ]
    },
    {
      "cell_type": "code",
      "metadata": {
        "colab": {
          "base_uri": "https://localhost:8080/",
          "height": 476
        },
        "id": "O3dhOatoDBzs",
        "outputId": "3a816261-9cda-4db3-8e6b-7dbe143627ad"
      },
      "source": [
        "#computing confusion matrix\n",
        "confusionMatrix(Carseats.train$HighSales,rf.classTrain)"
      ],
      "execution_count": 60,
      "outputs": [
        {
          "output_type": "display_data",
          "data": {
            "text/plain": [
              "Confusion Matrix and Statistics\n",
              "\n",
              "          Reference\n",
              "Prediction  No Yes\n",
              "       No  114   0\n",
              "       Yes   0  86\n",
              "                                     \n",
              "               Accuracy : 1          \n",
              "                 95% CI : (0.9817, 1)\n",
              "    No Information Rate : 0.57       \n",
              "    P-Value [Acc > NIR] : < 2.2e-16  \n",
              "                                     \n",
              "                  Kappa : 1          \n",
              "                                     \n",
              " Mcnemar's Test P-Value : NA         \n",
              "                                     \n",
              "            Sensitivity : 1.00       \n",
              "            Specificity : 1.00       \n",
              "         Pos Pred Value : 1.00       \n",
              "         Neg Pred Value : 1.00       \n",
              "             Prevalence : 0.57       \n",
              "         Detection Rate : 0.57       \n",
              "   Detection Prevalence : 0.57       \n",
              "      Balanced Accuracy : 1.00       \n",
              "                                     \n",
              "       'Positive' Class : No         \n",
              "                                     "
            ]
          },
          "metadata": {
            "tags": []
          }
        }
      ]
    },
    {
      "cell_type": "markdown",
      "metadata": {
        "id": "A0gMKLNxDFo6"
      },
      "source": [
        "Sem erros. Isso é bom - o modelo foi bem aprendido.\n",
        "\n",
        "Mais interessante é a matriz de confusão quando aplicada aos dados de teste."
      ]
    },
    {
      "cell_type": "code",
      "metadata": {
        "colab": {
          "base_uri": "https://localhost:8080/",
          "height": 51
        },
        "id": "zvrJzu1gDIy7",
        "outputId": "650cb068-ce60-4c43-856b-db4222654aa3"
      },
      "source": [
        "#obtaining class predictions\n",
        "rf.classTest <-  predict(train.rf, \n",
        "                         newdata = Carseats.test,\n",
        "                          type=\"raw\")\n",
        "head(rf.classTest)"
      ],
      "execution_count": 61,
      "outputs": [
        {
          "output_type": "display_data",
          "data": {
            "text/plain": [
              "[1] No  Yes Yes No  No  Yes\n",
              "Levels: No Yes"
            ],
            "text/latex": "\\begin{enumerate*}\n\\item No\n\\item Yes\n\\item Yes\n\\item No\n\\item No\n\\item Yes\n\\end{enumerate*}\n\n\\emph{Levels}: \\begin{enumerate*}\n\\item 'No'\n\\item 'Yes'\n\\end{enumerate*}\n",
            "text/markdown": "1. No\n2. Yes\n3. Yes\n4. No\n5. No\n6. Yes\n\n\n\n**Levels**: 1. 'No'\n2. 'Yes'\n\n\n",
            "text/html": [
              "<style>\n",
              ".list-inline {list-style: none; margin:0; padding: 0}\n",
              ".list-inline>li {display: inline-block}\n",
              ".list-inline>li:not(:last-child)::after {content: \"\\00b7\"; padding: 0 .5ex}\n",
              "</style>\n",
              "<ol class=list-inline><li>No</li><li>Yes</li><li>Yes</li><li>No</li><li>No</li><li>Yes</li></ol>\n",
              "\n",
              "<details>\n",
              "\t<summary style=display:list-item;cursor:pointer>\n",
              "\t\t<strong>Levels</strong>:\n",
              "\t</summary>\n",
              "\t<style>\n",
              "\t.list-inline {list-style: none; margin:0; padding: 0}\n",
              "\t.list-inline>li {display: inline-block}\n",
              "\t.list-inline>li:not(:last-child)::after {content: \"\\00b7\"; padding: 0 .5ex}\n",
              "\t</style>\n",
              "\t<ol class=list-inline><li>'No'</li><li>'Yes'</li></ol>\n",
              "</details>"
            ]
          },
          "metadata": {
            "tags": []
          }
        }
      ]
    },
    {
      "cell_type": "code",
      "metadata": {
        "colab": {
          "base_uri": "https://localhost:8080/",
          "height": 476
        },
        "id": "I3DOkcqQDLyX",
        "outputId": "66f7e629-4d1f-4834-e2d0-99471edc9eb2"
      },
      "source": [
        "#computing confusion matrix\n",
        "confusionMatrix(Carseats.test$HighSales,rf.classTest)"
      ],
      "execution_count": 62,
      "outputs": [
        {
          "output_type": "display_data",
          "data": {
            "text/plain": [
              "Confusion Matrix and Statistics\n",
              "\n",
              "          Reference\n",
              "Prediction  No Yes\n",
              "       No  109  13\n",
              "       Yes  20  58\n",
              "                                          \n",
              "               Accuracy : 0.835           \n",
              "                 95% CI : (0.7762, 0.8836)\n",
              "    No Information Rate : 0.645           \n",
              "    P-Value [Acc > NIR] : 2.1e-09         \n",
              "                                          \n",
              "                  Kappa : 0.6475          \n",
              "                                          \n",
              " Mcnemar's Test P-Value : 0.2963          \n",
              "                                          \n",
              "            Sensitivity : 0.8450          \n",
              "            Specificity : 0.8169          \n",
              "         Pos Pred Value : 0.8934          \n",
              "         Neg Pred Value : 0.7436          \n",
              "             Prevalence : 0.6450          \n",
              "         Detection Rate : 0.5450          \n",
              "   Detection Prevalence : 0.6100          \n",
              "      Balanced Accuracy : 0.8309          \n",
              "                                          \n",
              "       'Positive' Class : No              \n",
              "                                          "
            ]
          },
          "metadata": {
            "tags": []
          }
        }
      ]
    },
    {
      "cell_type": "markdown",
      "metadata": {
        "id": "A8JzCLV0DPY4"
      },
      "source": [
        "Precisão de 0,83. Uma melhoria em relação ao Bagging apenas\n",
        "\n",
        "Também podemos olhar para a curva ROC extraindo probabilites de “Sim”."
      ]
    },
    {
      "cell_type": "code",
      "metadata": {
        "colab": {
          "base_uri": "https://localhost:8080/",
          "height": 283
        },
        "id": "xtD-7E4IDXTt",
        "outputId": "47055535-b5a7-43dc-fc45-a5662b214182"
      },
      "source": [
        "#Obtaining predicted probabilites for Test data\n",
        "rf.probs=predict(train.rf,\n",
        "                 newdata=Carseats.test,\n",
        "                 type=\"prob\")\n",
        "head(rf.probs)"
      ],
      "execution_count": 63,
      "outputs": [
        {
          "output_type": "display_data",
          "data": {
            "text/plain": [
              "  No    Yes  \n",
              "1 0.906 0.094\n",
              "2 0.124 0.876\n",
              "3 0.080 0.920\n",
              "6 0.574 0.426\n",
              "7 0.864 0.136\n",
              "8 0.166 0.834"
            ],
            "text/latex": "A data.frame: 6 × 2\n\\begin{tabular}{r|ll}\n  & No & Yes\\\\\n  & <dbl> & <dbl>\\\\\n\\hline\n\t1 & 0.906 & 0.094\\\\\n\t2 & 0.124 & 0.876\\\\\n\t3 & 0.080 & 0.920\\\\\n\t6 & 0.574 & 0.426\\\\\n\t7 & 0.864 & 0.136\\\\\n\t8 & 0.166 & 0.834\\\\\n\\end{tabular}\n",
            "text/markdown": "\nA data.frame: 6 × 2\n\n| <!--/--> | No &lt;dbl&gt; | Yes &lt;dbl&gt; |\n|---|---|---|\n| 1 | 0.906 | 0.094 |\n| 2 | 0.124 | 0.876 |\n| 3 | 0.080 | 0.920 |\n| 6 | 0.574 | 0.426 |\n| 7 | 0.864 | 0.136 |\n| 8 | 0.166 | 0.834 |\n\n",
            "text/html": [
              "<table class=\"dataframe\">\n",
              "<caption>A data.frame: 6 × 2</caption>\n",
              "<thead>\n",
              "\t<tr><th></th><th scope=col>No</th><th scope=col>Yes</th></tr>\n",
              "\t<tr><th></th><th scope=col>&lt;dbl&gt;</th><th scope=col>&lt;dbl&gt;</th></tr>\n",
              "</thead>\n",
              "<tbody>\n",
              "\t<tr><th scope=row>1</th><td>0.906</td><td>0.094</td></tr>\n",
              "\t<tr><th scope=row>2</th><td>0.124</td><td>0.876</td></tr>\n",
              "\t<tr><th scope=row>3</th><td>0.080</td><td>0.920</td></tr>\n",
              "\t<tr><th scope=row>6</th><td>0.574</td><td>0.426</td></tr>\n",
              "\t<tr><th scope=row>7</th><td>0.864</td><td>0.136</td></tr>\n",
              "\t<tr><th scope=row>8</th><td>0.166</td><td>0.834</td></tr>\n",
              "</tbody>\n",
              "</table>\n"
            ]
          },
          "metadata": {
            "tags": []
          }
        }
      ]
    },
    {
      "cell_type": "code",
      "metadata": {
        "colab": {
          "base_uri": "https://localhost:8080/",
          "height": 505
        },
        "id": "iOh8mL6JDZmV",
        "outputId": "a6ee98f4-7b2a-4599-958d-4b934560b995"
      },
      "source": [
        "#Calculate ROC curve\n",
        "rocCurve.rf <- roc(Carseats.test$HighSales,rf.probs[,\"Yes\"])\n",
        "#plot the ROC curve\n",
        "plot(rocCurve.rf,col=c(1))"
      ],
      "execution_count": 64,
      "outputs": [
        {
          "output_type": "stream",
          "text": [
            "Setting levels: control = No, case = Yes\n",
            "\n",
            "Setting direction: controls < cases\n",
            "\n"
          ],
          "name": "stderr"
        },
        {
          "output_type": "display_data",
          "data": {
            "image/png": "[encoded data removed]",
            "text/plain": [
              "plot without title"
            ]
          },
          "metadata": {
            "tags": [],
            "image/png": {
              "width": 420,
              "height": 420
            }
          }
        }
      ]
    },
    {
      "cell_type": "code",
      "metadata": {
        "colab": {
          "base_uri": "https://localhost:8080/",
          "height": 34
        },
        "id": "v8Eio2gtDcZR",
        "outputId": "df16b365-f5fe-48e3-abdb-89ea46deca68"
      },
      "source": [
        "#calculate the area under curve (bigger is better)\n",
        "auc(rocCurve.rf)"
      ],
      "execution_count": 65,
      "outputs": [
        {
          "output_type": "display_data",
          "data": {
            "text/plain": [
              "Area under the curve: 0.8972"
            ],
            "text/latex": "0.897173182009248",
            "text/markdown": "0.897173182009248",
            "text/html": [
              "0.897173182009248"
            ]
          },
          "metadata": {
            "tags": []
          }
        }
      ]
    }
  ]
}